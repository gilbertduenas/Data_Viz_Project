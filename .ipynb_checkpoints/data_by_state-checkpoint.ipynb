{
 "cells": [
  {
   "cell_type": "code",
   "execution_count": 115,
   "metadata": {},
   "outputs": [],
   "source": [
    "# Dependencies and Setup\n",
    "import matplotlib.pyplot as plt\n",
    "import pandas as pd\n",
    "import numpy as np\n",
    "import requests\n",
    "import time\n",
    "import os\n",
    "\n",
    "import gmaps\n",
    "\n",
    "from config import gkey"
   ]
  },
  {
   "cell_type": "code",
   "execution_count": 116,
   "metadata": {},
   "outputs": [
    {
     "data": {
      "text/plain": [
       "'C:\\\\Users\\\\lianx\\\\Desktop\\\\UCSD_project\\\\Data_Viz_Project'"
      ]
     },
     "execution_count": 116,
     "metadata": {},
     "output_type": "execute_result"
    }
   ],
   "source": [
    "os.getcwd()"
   ]
  },
  {
   "cell_type": "code",
   "execution_count": 118,
   "metadata": {},
   "outputs": [],
   "source": [
    "states = [\"Alabama\",\"Alaska\",\"Arizona\",\"Arkansas\",\"California\",\"Colorado\",\n",
    "  \"Connecticut\",\"Delaware\",\"District of Columbia\",\"Florida\",\"Georgia\",\"Hawaii\",\"Idaho\",\"Illinois\",\n",
    "  \"Indiana\",\"Iowa\",\"Kansas\",\"Kentucky\",\"Louisiana\",\"Maine\",\"Maryland\",\n",
    "  \"Massachusetts\",\"Michigan\",\"Minnesota\",\"Mississippi\",\"Missouri\",\"Montana\",\n",
    "  \"Nebraska\",\"Nevada\",\"New Hampshire\",\"New Jersey\",\"New Mexico\",\"New York\",\n",
    "  \"North Carolina\",\"North Dakota\",\"Ohio\",\"Oklahoma\",\"Oregon\",\"Pennsylvania\",\"Puerto Rico\",\n",
    "  \"Rhode Island\",\"South Carolina\",\"South Dakota\",\"Tennessee\",\"Texas\",\"Utah\",\n",
    "  \"Vermont\",\"Virginia\",\"Washington\",\"West Virginia\",\"Wisconsin\",\"Wyoming\"]\n",
    "\n",
    "state_abbre = [\"AL\",\"AK\",\"AZ\",\"AR\",\"CA\",\"CO\",\"CT\",\"DE\",\"DC\",\"FL\",\"GA\",\"HI\",\"ID\",\"IL\",\"IN\",\n",
    "              \"IA\",\"KS\",\"KY\",\"LA\",\"ME\",\"MD\",\"MA\",\"MI\",\"MN\",\"MS\",\"MO\",\"MT\",\"NE\",\"NV\",\n",
    "              \"NH\",\"NJ\",\"NM\",\"NY\",\"NC\",\"ND\",\"OH\",\"OK\",\"OR\",\"PA\",\"PR\",\"RI\",\"SC\",\"SD\",\"TN\",\n",
    "              \"TX\",\"UT\",\"VT\",\"VA\",\"WA\",\"WV\",\"WI\",\"WY\"]\n",
    "\n",
    "states_dict = dict(zip(states, state_abbre))\n"
   ]
  },
  {
   "cell_type": "code",
   "execution_count": 4,
   "metadata": {},
   "outputs": [
    {
     "data": {
      "text/html": [
       "<div>\n",
       "<style scoped>\n",
       "    .dataframe tbody tr th:only-of-type {\n",
       "        vertical-align: middle;\n",
       "    }\n",
       "\n",
       "    .dataframe tbody tr th {\n",
       "        vertical-align: top;\n",
       "    }\n",
       "\n",
       "    .dataframe thead th {\n",
       "        text-align: right;\n",
       "    }\n",
       "</style>\n",
       "<table border=\"1\" class=\"dataframe\">\n",
       "  <thead>\n",
       "    <tr style=\"text-align: right;\">\n",
       "      <th></th>\n",
       "      <th>State</th>\n",
       "      <th>County</th>\n",
       "      <th>MedianIncome</th>\n",
       "    </tr>\n",
       "  </thead>\n",
       "  <tbody>\n",
       "    <tr>\n",
       "      <th>0</th>\n",
       "      <td>AL</td>\n",
       "      <td>cleburne</td>\n",
       "      <td>46069</td>\n",
       "    </tr>\n",
       "    <tr>\n",
       "      <th>1</th>\n",
       "      <td>AL</td>\n",
       "      <td>dale</td>\n",
       "      <td>56132</td>\n",
       "    </tr>\n",
       "    <tr>\n",
       "      <th>2</th>\n",
       "      <td>AL</td>\n",
       "      <td>tuscaloosa</td>\n",
       "      <td>58922</td>\n",
       "    </tr>\n",
       "    <tr>\n",
       "      <th>3</th>\n",
       "      <td>AL</td>\n",
       "      <td>talladega</td>\n",
       "      <td>43074</td>\n",
       "    </tr>\n",
       "    <tr>\n",
       "      <th>4</th>\n",
       "      <td>AL</td>\n",
       "      <td>monroe</td>\n",
       "      <td>36807</td>\n",
       "    </tr>\n",
       "  </tbody>\n",
       "</table>\n",
       "</div>"
      ],
      "text/plain": [
       "  State      County  MedianIncome\n",
       "0    AL    cleburne         46069\n",
       "1    AL        dale         56132\n",
       "2    AL  tuscaloosa         58922\n",
       "3    AL   talladega         43074\n",
       "4    AL      monroe         36807"
      ]
     },
     "execution_count": 4,
     "metadata": {},
     "output_type": "execute_result"
    }
   ],
   "source": [
    "# File to Load \n",
    "income_state_to_load = \"./list_of_state_and_counties_by_median_income.csv\"\n",
    "\n",
    "# Read hospital Data File and store into Pandas Data Frames\n",
    "income_state0 = pd.read_csv(income_state_to_load)\n",
    "income_state0['State'] = income_state0['State'].map(states_dict)\n",
    "\n",
    "income_state0.head()"
   ]
  },
  {
   "cell_type": "code",
   "execution_count": 119,
   "metadata": {},
   "outputs": [
    {
     "data": {
      "text/html": [
       "<div>\n",
       "<style scoped>\n",
       "    .dataframe tbody tr th:only-of-type {\n",
       "        vertical-align: middle;\n",
       "    }\n",
       "\n",
       "    .dataframe tbody tr th {\n",
       "        vertical-align: top;\n",
       "    }\n",
       "\n",
       "    .dataframe thead th {\n",
       "        text-align: right;\n",
       "    }\n",
       "</style>\n",
       "<table border=\"1\" class=\"dataframe\">\n",
       "  <thead>\n",
       "    <tr style=\"text-align: right;\">\n",
       "      <th></th>\n",
       "      <th>MedianIncome</th>\n",
       "    </tr>\n",
       "    <tr>\n",
       "      <th>State</th>\n",
       "      <th></th>\n",
       "    </tr>\n",
       "  </thead>\n",
       "  <tbody>\n",
       "    <tr>\n",
       "      <th>AK</th>\n",
       "      <td>71969.724138</td>\n",
       "    </tr>\n",
       "    <tr>\n",
       "      <th>AL</th>\n",
       "      <td>47967.761194</td>\n",
       "    </tr>\n",
       "    <tr>\n",
       "      <th>AR</th>\n",
       "      <td>44976.613333</td>\n",
       "    </tr>\n",
       "    <tr>\n",
       "      <th>AZ</th>\n",
       "      <td>49903.933333</td>\n",
       "    </tr>\n",
       "    <tr>\n",
       "      <th>CA</th>\n",
       "      <td>66207.379310</td>\n",
       "    </tr>\n",
       "  </tbody>\n",
       "</table>\n",
       "</div>"
      ],
      "text/plain": [
       "       MedianIncome\n",
       "State              \n",
       "AK     71969.724138\n",
       "AL     47967.761194\n",
       "AR     44976.613333\n",
       "AZ     49903.933333\n",
       "CA     66207.379310"
      ]
     },
     "execution_count": 119,
     "metadata": {},
     "output_type": "execute_result"
    }
   ],
   "source": [
    "income_state = income_state0.groupby('State').mean()\n",
    "income_state.head()"
   ]
  },
  {
   "cell_type": "code",
   "execution_count": 120,
   "metadata": {},
   "outputs": [
    {
     "data": {
      "text/html": [
       "<div>\n",
       "<style scoped>\n",
       "    .dataframe tbody tr th:only-of-type {\n",
       "        vertical-align: middle;\n",
       "    }\n",
       "\n",
       "    .dataframe tbody tr th {\n",
       "        vertical-align: top;\n",
       "    }\n",
       "\n",
       "    .dataframe thead th {\n",
       "        text-align: right;\n",
       "    }\n",
       "</style>\n",
       "<table border=\"1\" class=\"dataframe\">\n",
       "  <thead>\n",
       "    <tr style=\"text-align: right;\">\n",
       "      <th></th>\n",
       "      <th>State</th>\n",
       "      <th>Hospital</th>\n",
       "      <th>POPESTIMATE2018</th>\n",
       "      <th>Density</th>\n",
       "      <th>Latitude</th>\n",
       "      <th>Longitude</th>\n",
       "    </tr>\n",
       "  </thead>\n",
       "  <tbody>\n",
       "    <tr>\n",
       "      <th>0</th>\n",
       "      <td>TX</td>\n",
       "      <td>798</td>\n",
       "      <td>28701845.0</td>\n",
       "      <td>2.78</td>\n",
       "      <td>31.4757</td>\n",
       "      <td>-99.3312</td>\n",
       "    </tr>\n",
       "    <tr>\n",
       "      <th>1</th>\n",
       "      <td>CA</td>\n",
       "      <td>569</td>\n",
       "      <td>39557045.0</td>\n",
       "      <td>1.44</td>\n",
       "      <td>37.1841</td>\n",
       "      <td>-119.4696</td>\n",
       "    </tr>\n",
       "    <tr>\n",
       "      <th>2</th>\n",
       "      <td>FL</td>\n",
       "      <td>350</td>\n",
       "      <td>21299325.0</td>\n",
       "      <td>1.64</td>\n",
       "      <td>28.6305</td>\n",
       "      <td>-82.4497</td>\n",
       "    </tr>\n",
       "    <tr>\n",
       "      <th>3</th>\n",
       "      <td>OH</td>\n",
       "      <td>290</td>\n",
       "      <td>11689442.0</td>\n",
       "      <td>2.48</td>\n",
       "      <td>40.2862</td>\n",
       "      <td>-82.7937</td>\n",
       "    </tr>\n",
       "    <tr>\n",
       "      <th>4</th>\n",
       "      <td>PA</td>\n",
       "      <td>279</td>\n",
       "      <td>12807060.0</td>\n",
       "      <td>2.18</td>\n",
       "      <td>40.8781</td>\n",
       "      <td>-77.7996</td>\n",
       "    </tr>\n",
       "  </tbody>\n",
       "</table>\n",
       "</div>"
      ],
      "text/plain": [
       "  State  Hospital  POPESTIMATE2018  Density  Latitude  Longitude\n",
       "0    TX       798       28701845.0     2.78   31.4757   -99.3312\n",
       "1    CA       569       39557045.0     1.44   37.1841  -119.4696\n",
       "2    FL       350       21299325.0     1.64   28.6305   -82.4497\n",
       "3    OH       290       11689442.0     2.48   40.2862   -82.7937\n",
       "4    PA       279       12807060.0     2.18   40.8781   -77.7996"
      ]
     },
     "execution_count": 120,
     "metadata": {},
     "output_type": "execute_result"
    }
   ],
   "source": [
    "# File to Load \n",
    "hospital_state_to_load = \"./hospital_state_location.csv\"\n",
    "\n",
    "# Read hospital Data File and store into Pandas Data Frames\n",
    "hospital_state = pd.read_csv(hospital_state_to_load)\n",
    "\n",
    "hospital_state.head()"
   ]
  },
  {
   "cell_type": "code",
   "execution_count": 121,
   "metadata": {},
   "outputs": [
    {
     "data": {
      "text/html": [
       "<div>\n",
       "<style scoped>\n",
       "    .dataframe tbody tr th:only-of-type {\n",
       "        vertical-align: middle;\n",
       "    }\n",
       "\n",
       "    .dataframe tbody tr th {\n",
       "        vertical-align: top;\n",
       "    }\n",
       "\n",
       "    .dataframe thead th {\n",
       "        text-align: right;\n",
       "    }\n",
       "</style>\n",
       "<table border=\"1\" class=\"dataframe\">\n",
       "  <thead>\n",
       "    <tr style=\"text-align: right;\">\n",
       "      <th></th>\n",
       "      <th>State</th>\n",
       "      <th>Unemployment</th>\n",
       "    </tr>\n",
       "  </thead>\n",
       "  <tbody>\n",
       "    <tr>\n",
       "      <th>0</th>\n",
       "      <td>HI</td>\n",
       "      <td>2.1</td>\n",
       "    </tr>\n",
       "    <tr>\n",
       "      <th>1</th>\n",
       "      <td>ND</td>\n",
       "      <td>2.6</td>\n",
       "    </tr>\n",
       "    <tr>\n",
       "      <th>2</th>\n",
       "      <td>NH</td>\n",
       "      <td>2.6</td>\n",
       "    </tr>\n",
       "    <tr>\n",
       "      <th>3</th>\n",
       "      <td>ME</td>\n",
       "      <td>2.7</td>\n",
       "    </tr>\n",
       "    <tr>\n",
       "      <th>4</th>\n",
       "      <td>VT</td>\n",
       "      <td>2.8</td>\n",
       "    </tr>\n",
       "  </tbody>\n",
       "</table>\n",
       "</div>"
      ],
      "text/plain": [
       "  State  Unemployment\n",
       "0    HI           2.1\n",
       "1    ND           2.6\n",
       "2    NH           2.6\n",
       "3    ME           2.7\n",
       "4    VT           2.8"
      ]
     },
     "execution_count": 121,
     "metadata": {},
     "output_type": "execute_result"
    }
   ],
   "source": [
    "# File to Load \n",
    "unemployment_state_to_load = \"./states_by_unemployment_rate.csv\"\n",
    "\n",
    "# Read hospital Data File and store into Pandas Data Frames\n",
    "unemployment_state = pd.read_csv(unemployment_state_to_load)\n",
    "unemployment_state['State'] = unemployment_state['State'].map(states_dict)\n",
    "unemployment_state.head()\n",
    "\n"
   ]
  },
  {
   "cell_type": "code",
   "execution_count": 122,
   "metadata": {},
   "outputs": [
    {
     "data": {
      "text/html": [
       "<div>\n",
       "<style scoped>\n",
       "    .dataframe tbody tr th:only-of-type {\n",
       "        vertical-align: middle;\n",
       "    }\n",
       "\n",
       "    .dataframe tbody tr th {\n",
       "        vertical-align: top;\n",
       "    }\n",
       "\n",
       "    .dataframe thead th {\n",
       "        text-align: right;\n",
       "    }\n",
       "</style>\n",
       "<table border=\"1\" class=\"dataframe\">\n",
       "  <thead>\n",
       "    <tr style=\"text-align: right;\">\n",
       "      <th></th>\n",
       "      <th>year</th>\n",
       "      <th>state_abbr</th>\n",
       "      <th>state_id</th>\n",
       "      <th>population</th>\n",
       "      <th>aggravated_assault</th>\n",
       "      <th>arson</th>\n",
       "      <th>burglary</th>\n",
       "      <th>homicide</th>\n",
       "      <th>larceny</th>\n",
       "      <th>motor_vehicle_theft</th>\n",
       "      <th>property_crime</th>\n",
       "      <th>rape_legacy</th>\n",
       "      <th>rape_revised</th>\n",
       "      <th>robbery</th>\n",
       "      <th>violent_crime</th>\n",
       "    </tr>\n",
       "  </thead>\n",
       "  <tbody>\n",
       "    <tr>\n",
       "      <th>0</th>\n",
       "      <td>1983</td>\n",
       "      <td>AL</td>\n",
       "      <td>2</td>\n",
       "      <td>3959000</td>\n",
       "      <td>11281</td>\n",
       "      <td>NaN</td>\n",
       "      <td>42485</td>\n",
       "      <td>364</td>\n",
       "      <td>94279</td>\n",
       "      <td>9126</td>\n",
       "      <td>145890</td>\n",
       "      <td>931</td>\n",
       "      <td>NaN</td>\n",
       "      <td>3895</td>\n",
       "      <td>16471</td>\n",
       "    </tr>\n",
       "    <tr>\n",
       "      <th>1</th>\n",
       "      <td>1984</td>\n",
       "      <td>AL</td>\n",
       "      <td>2</td>\n",
       "      <td>3990000</td>\n",
       "      <td>11995</td>\n",
       "      <td>NaN</td>\n",
       "      <td>39970</td>\n",
       "      <td>374</td>\n",
       "      <td>89198</td>\n",
       "      <td>9319</td>\n",
       "      <td>138487</td>\n",
       "      <td>1002</td>\n",
       "      <td>NaN</td>\n",
       "      <td>3833</td>\n",
       "      <td>17204</td>\n",
       "    </tr>\n",
       "    <tr>\n",
       "      <th>2</th>\n",
       "      <td>2001</td>\n",
       "      <td>AL</td>\n",
       "      <td>2</td>\n",
       "      <td>4468912</td>\n",
       "      <td>12250</td>\n",
       "      <td>NaN</td>\n",
       "      <td>40642</td>\n",
       "      <td>379</td>\n",
       "      <td>119992</td>\n",
       "      <td>12619</td>\n",
       "      <td>173253</td>\n",
       "      <td>1369</td>\n",
       "      <td>NaN</td>\n",
       "      <td>5584</td>\n",
       "      <td>19582</td>\n",
       "    </tr>\n",
       "    <tr>\n",
       "      <th>3</th>\n",
       "      <td>2002</td>\n",
       "      <td>AL</td>\n",
       "      <td>2</td>\n",
       "      <td>4478896</td>\n",
       "      <td>12002</td>\n",
       "      <td>NaN</td>\n",
       "      <td>42578</td>\n",
       "      <td>303</td>\n",
       "      <td>123932</td>\n",
       "      <td>13890</td>\n",
       "      <td>180400</td>\n",
       "      <td>1664</td>\n",
       "      <td>NaN</td>\n",
       "      <td>5962</td>\n",
       "      <td>19931</td>\n",
       "    </tr>\n",
       "    <tr>\n",
       "      <th>4</th>\n",
       "      <td>2003</td>\n",
       "      <td>AL</td>\n",
       "      <td>2</td>\n",
       "      <td>4503726</td>\n",
       "      <td>11338</td>\n",
       "      <td>NaN</td>\n",
       "      <td>43245</td>\n",
       "      <td>299</td>\n",
       "      <td>124039</td>\n",
       "      <td>14957</td>\n",
       "      <td>182241</td>\n",
       "      <td>1656</td>\n",
       "      <td>NaN</td>\n",
       "      <td>6038</td>\n",
       "      <td>19331</td>\n",
       "    </tr>\n",
       "  </tbody>\n",
       "</table>\n",
       "</div>"
      ],
      "text/plain": [
       "   year state_abbr  state_id  population  aggravated_assault  arson  burglary  \\\n",
       "0  1983         AL         2     3959000               11281    NaN     42485   \n",
       "1  1984         AL         2     3990000               11995    NaN     39970   \n",
       "2  2001         AL         2     4468912               12250    NaN     40642   \n",
       "3  2002         AL         2     4478896               12002    NaN     42578   \n",
       "4  2003         AL         2     4503726               11338    NaN     43245   \n",
       "\n",
       "   homicide  larceny  motor_vehicle_theft  property_crime  rape_legacy  \\\n",
       "0       364    94279                 9126          145890          931   \n",
       "1       374    89198                 9319          138487         1002   \n",
       "2       379   119992                12619          173253         1369   \n",
       "3       303   123932                13890          180400         1664   \n",
       "4       299   124039                14957          182241         1656   \n",
       "\n",
       "   rape_revised  robbery  violent_crime  \n",
       "0           NaN     3895          16471  \n",
       "1           NaN     3833          17204  \n",
       "2           NaN     5584          19582  \n",
       "3           NaN     5962          19931  \n",
       "4           NaN     6038          19331  "
      ]
     },
     "execution_count": 122,
     "metadata": {},
     "output_type": "execute_result"
    }
   ],
   "source": [
    "# File to Load \n",
    "crime_state_to_load = \"./crime_by_state.csv\"\n",
    "\n",
    "# Read hospital Data File and store into Pandas Data Frames\n",
    "crime_state0 = pd.read_csv(crime_state_to_load)\n",
    "\n",
    "crime_state0.head()"
   ]
  },
  {
   "cell_type": "code",
   "execution_count": 123,
   "metadata": {},
   "outputs": [
    {
     "data": {
      "text/html": [
       "<div>\n",
       "<style scoped>\n",
       "    .dataframe tbody tr th:only-of-type {\n",
       "        vertical-align: middle;\n",
       "    }\n",
       "\n",
       "    .dataframe tbody tr th {\n",
       "        vertical-align: top;\n",
       "    }\n",
       "\n",
       "    .dataframe thead th {\n",
       "        text-align: right;\n",
       "    }\n",
       "</style>\n",
       "<table border=\"1\" class=\"dataframe\">\n",
       "  <thead>\n",
       "    <tr style=\"text-align: right;\">\n",
       "      <th></th>\n",
       "      <th>state_abbr</th>\n",
       "      <th>state_id</th>\n",
       "      <th>population</th>\n",
       "      <th>aggravated_assault</th>\n",
       "      <th>arson</th>\n",
       "      <th>burglary</th>\n",
       "      <th>homicide</th>\n",
       "      <th>larceny</th>\n",
       "      <th>motor_vehicle_theft</th>\n",
       "      <th>property_crime</th>\n",
       "      <th>rape_legacy</th>\n",
       "      <th>rape_revised</th>\n",
       "      <th>robbery</th>\n",
       "      <th>violent_crime</th>\n",
       "    </tr>\n",
       "    <tr>\n",
       "      <th>year</th>\n",
       "      <th></th>\n",
       "      <th></th>\n",
       "      <th></th>\n",
       "      <th></th>\n",
       "      <th></th>\n",
       "      <th></th>\n",
       "      <th></th>\n",
       "      <th></th>\n",
       "      <th></th>\n",
       "      <th></th>\n",
       "      <th></th>\n",
       "      <th></th>\n",
       "      <th></th>\n",
       "      <th></th>\n",
       "    </tr>\n",
       "  </thead>\n",
       "  <tbody>\n",
       "    <tr>\n",
       "      <th>1983</th>\n",
       "      <td>AL</td>\n",
       "      <td>2</td>\n",
       "      <td>3959000</td>\n",
       "      <td>11281</td>\n",
       "      <td>NaN</td>\n",
       "      <td>42485</td>\n",
       "      <td>364</td>\n",
       "      <td>94279</td>\n",
       "      <td>9126</td>\n",
       "      <td>145890</td>\n",
       "      <td>931</td>\n",
       "      <td>NaN</td>\n",
       "      <td>3895</td>\n",
       "      <td>16471</td>\n",
       "    </tr>\n",
       "    <tr>\n",
       "      <th>1984</th>\n",
       "      <td>AL</td>\n",
       "      <td>2</td>\n",
       "      <td>3990000</td>\n",
       "      <td>11995</td>\n",
       "      <td>NaN</td>\n",
       "      <td>39970</td>\n",
       "      <td>374</td>\n",
       "      <td>89198</td>\n",
       "      <td>9319</td>\n",
       "      <td>138487</td>\n",
       "      <td>1002</td>\n",
       "      <td>NaN</td>\n",
       "      <td>3833</td>\n",
       "      <td>17204</td>\n",
       "    </tr>\n",
       "    <tr>\n",
       "      <th>2001</th>\n",
       "      <td>AL</td>\n",
       "      <td>2</td>\n",
       "      <td>4468912</td>\n",
       "      <td>12250</td>\n",
       "      <td>NaN</td>\n",
       "      <td>40642</td>\n",
       "      <td>379</td>\n",
       "      <td>119992</td>\n",
       "      <td>12619</td>\n",
       "      <td>173253</td>\n",
       "      <td>1369</td>\n",
       "      <td>NaN</td>\n",
       "      <td>5584</td>\n",
       "      <td>19582</td>\n",
       "    </tr>\n",
       "    <tr>\n",
       "      <th>2002</th>\n",
       "      <td>AL</td>\n",
       "      <td>2</td>\n",
       "      <td>4478896</td>\n",
       "      <td>12002</td>\n",
       "      <td>NaN</td>\n",
       "      <td>42578</td>\n",
       "      <td>303</td>\n",
       "      <td>123932</td>\n",
       "      <td>13890</td>\n",
       "      <td>180400</td>\n",
       "      <td>1664</td>\n",
       "      <td>NaN</td>\n",
       "      <td>5962</td>\n",
       "      <td>19931</td>\n",
       "    </tr>\n",
       "    <tr>\n",
       "      <th>2003</th>\n",
       "      <td>AL</td>\n",
       "      <td>2</td>\n",
       "      <td>4503726</td>\n",
       "      <td>11338</td>\n",
       "      <td>NaN</td>\n",
       "      <td>43245</td>\n",
       "      <td>299</td>\n",
       "      <td>124039</td>\n",
       "      <td>14957</td>\n",
       "      <td>182241</td>\n",
       "      <td>1656</td>\n",
       "      <td>NaN</td>\n",
       "      <td>6038</td>\n",
       "      <td>19331</td>\n",
       "    </tr>\n",
       "  </tbody>\n",
       "</table>\n",
       "</div>"
      ],
      "text/plain": [
       "     state_abbr  state_id  population  aggravated_assault  arson  burglary  \\\n",
       "year                                                                         \n",
       "1983         AL         2     3959000               11281    NaN     42485   \n",
       "1984         AL         2     3990000               11995    NaN     39970   \n",
       "2001         AL         2     4468912               12250    NaN     40642   \n",
       "2002         AL         2     4478896               12002    NaN     42578   \n",
       "2003         AL         2     4503726               11338    NaN     43245   \n",
       "\n",
       "      homicide  larceny  motor_vehicle_theft  property_crime  rape_legacy  \\\n",
       "year                                                                        \n",
       "1983       364    94279                 9126          145890          931   \n",
       "1984       374    89198                 9319          138487         1002   \n",
       "2001       379   119992                12619          173253         1369   \n",
       "2002       303   123932                13890          180400         1664   \n",
       "2003       299   124039                14957          182241         1656   \n",
       "\n",
       "      rape_revised  robbery  violent_crime  \n",
       "year                                        \n",
       "1983           NaN     3895          16471  \n",
       "1984           NaN     3833          17204  \n",
       "2001           NaN     5584          19582  \n",
       "2002           NaN     5962          19931  \n",
       "2003           NaN     6038          19331  "
      ]
     },
     "execution_count": 123,
     "metadata": {},
     "output_type": "execute_result"
    }
   ],
   "source": [
    "crime_state0 = crime_state0.set_index('year')\n",
    "crime_state0.head(5)"
   ]
  },
  {
   "cell_type": "code",
   "execution_count": 124,
   "metadata": {},
   "outputs": [
    {
     "data": {
      "text/plain": [
       "numpy.int64"
      ]
     },
     "execution_count": 124,
     "metadata": {},
     "output_type": "execute_result"
    }
   ],
   "source": [
    "type(crime_state0.index[0])"
   ]
  },
  {
   "cell_type": "code",
   "execution_count": 125,
   "metadata": {},
   "outputs": [
    {
     "data": {
      "text/html": [
       "<div>\n",
       "<style scoped>\n",
       "    .dataframe tbody tr th:only-of-type {\n",
       "        vertical-align: middle;\n",
       "    }\n",
       "\n",
       "    .dataframe tbody tr th {\n",
       "        vertical-align: top;\n",
       "    }\n",
       "\n",
       "    .dataframe thead th {\n",
       "        text-align: right;\n",
       "    }\n",
       "</style>\n",
       "<table border=\"1\" class=\"dataframe\">\n",
       "  <thead>\n",
       "    <tr style=\"text-align: right;\">\n",
       "      <th></th>\n",
       "      <th>year</th>\n",
       "      <th>state_abbr</th>\n",
       "      <th>motor_vehicle_theft</th>\n",
       "      <th>property_crime</th>\n",
       "      <th>robbery</th>\n",
       "      <th>violent_crime</th>\n",
       "    </tr>\n",
       "  </thead>\n",
       "  <tbody>\n",
       "    <tr>\n",
       "      <th>0</th>\n",
       "      <td>2017</td>\n",
       "      <td>AL</td>\n",
       "      <td>12841</td>\n",
       "      <td>144160</td>\n",
       "      <td>4217</td>\n",
       "      <td>25551</td>\n",
       "    </tr>\n",
       "    <tr>\n",
       "      <th>1</th>\n",
       "      <td>2017</td>\n",
       "      <td>AK</td>\n",
       "      <td>4258</td>\n",
       "      <td>26204</td>\n",
       "      <td>951</td>\n",
       "      <td>6133</td>\n",
       "    </tr>\n",
       "    <tr>\n",
       "      <th>2</th>\n",
       "      <td>2017</td>\n",
       "      <td>AZ</td>\n",
       "      <td>19058</td>\n",
       "      <td>204515</td>\n",
       "      <td>7440</td>\n",
       "      <td>35644</td>\n",
       "    </tr>\n",
       "    <tr>\n",
       "      <th>3</th>\n",
       "      <td>2017</td>\n",
       "      <td>AR</td>\n",
       "      <td>7253</td>\n",
       "      <td>92489</td>\n",
       "      <td>1935</td>\n",
       "      <td>16671</td>\n",
       "    </tr>\n",
       "    <tr>\n",
       "      <th>4</th>\n",
       "      <td>2017</td>\n",
       "      <td>CA</td>\n",
       "      <td>168391</td>\n",
       "      <td>987114</td>\n",
       "      <td>56622</td>\n",
       "      <td>177627</td>\n",
       "    </tr>\n",
       "  </tbody>\n",
       "</table>\n",
       "</div>"
      ],
      "text/plain": [
       "   year state_abbr  motor_vehicle_theft  property_crime  robbery  \\\n",
       "0  2017         AL                12841          144160     4217   \n",
       "1  2017         AK                 4258           26204      951   \n",
       "2  2017         AZ                19058          204515     7440   \n",
       "3  2017         AR                 7253           92489     1935   \n",
       "4  2017         CA               168391          987114    56622   \n",
       "\n",
       "   violent_crime  \n",
       "0          25551  \n",
       "1           6133  \n",
       "2          35644  \n",
       "3          16671  \n",
       "4         177627  "
      ]
     },
     "execution_count": 125,
     "metadata": {},
     "output_type": "execute_result"
    }
   ],
   "source": [
    "crime_state = crime_state0.loc[2017,['state_abbr','motor_vehicle_theft','property_crime','robbery','violent_crime']]\n",
    "#crime_state1 = crime_state0.loc[2017,:]\n",
    "crime_state = crime_state.reset_index()\n",
    "crime_state.head()\n"
   ]
  },
  {
   "cell_type": "code",
   "execution_count": 126,
   "metadata": {},
   "outputs": [
    {
     "data": {
      "text/html": [
       "<div>\n",
       "<style scoped>\n",
       "    .dataframe tbody tr th:only-of-type {\n",
       "        vertical-align: middle;\n",
       "    }\n",
       "\n",
       "    .dataframe tbody tr th {\n",
       "        vertical-align: top;\n",
       "    }\n",
       "\n",
       "    .dataframe thead th {\n",
       "        text-align: right;\n",
       "    }\n",
       "</style>\n",
       "<table border=\"1\" class=\"dataframe\">\n",
       "  <thead>\n",
       "    <tr style=\"text-align: right;\">\n",
       "      <th></th>\n",
       "      <th>State</th>\n",
       "      <th>Hospital</th>\n",
       "      <th>POPESTIMATE2018</th>\n",
       "      <th>Density</th>\n",
       "      <th>Latitude</th>\n",
       "      <th>Longitude</th>\n",
       "      <th>MedianIncome</th>\n",
       "      <th>Unemployment</th>\n",
       "    </tr>\n",
       "  </thead>\n",
       "  <tbody>\n",
       "    <tr>\n",
       "      <th>0</th>\n",
       "      <td>TX</td>\n",
       "      <td>798</td>\n",
       "      <td>28701845.0</td>\n",
       "      <td>2.78</td>\n",
       "      <td>31.4757</td>\n",
       "      <td>-99.3312</td>\n",
       "      <td>55457.161417</td>\n",
       "      <td>4.0</td>\n",
       "    </tr>\n",
       "    <tr>\n",
       "      <th>1</th>\n",
       "      <td>CA</td>\n",
       "      <td>569</td>\n",
       "      <td>39557045.0</td>\n",
       "      <td>1.44</td>\n",
       "      <td>37.1841</td>\n",
       "      <td>-119.4696</td>\n",
       "      <td>66207.379310</td>\n",
       "      <td>4.3</td>\n",
       "    </tr>\n",
       "    <tr>\n",
       "      <th>2</th>\n",
       "      <td>FL</td>\n",
       "      <td>350</td>\n",
       "      <td>21299325.0</td>\n",
       "      <td>1.64</td>\n",
       "      <td>28.6305</td>\n",
       "      <td>-82.4497</td>\n",
       "      <td>53106.253731</td>\n",
       "      <td>3.9</td>\n",
       "    </tr>\n",
       "    <tr>\n",
       "      <th>3</th>\n",
       "      <td>OH</td>\n",
       "      <td>290</td>\n",
       "      <td>11689442.0</td>\n",
       "      <td>2.48</td>\n",
       "      <td>40.2862</td>\n",
       "      <td>-82.7937</td>\n",
       "      <td>57974.443182</td>\n",
       "      <td>4.4</td>\n",
       "    </tr>\n",
       "    <tr>\n",
       "      <th>4</th>\n",
       "      <td>PA</td>\n",
       "      <td>279</td>\n",
       "      <td>12807060.0</td>\n",
       "      <td>2.18</td>\n",
       "      <td>40.8781</td>\n",
       "      <td>-77.7996</td>\n",
       "      <td>60868.805970</td>\n",
       "      <td>4.8</td>\n",
       "    </tr>\n",
       "  </tbody>\n",
       "</table>\n",
       "</div>"
      ],
      "text/plain": [
       "  State  Hospital  POPESTIMATE2018  Density  Latitude  Longitude  \\\n",
       "0    TX       798       28701845.0     2.78   31.4757   -99.3312   \n",
       "1    CA       569       39557045.0     1.44   37.1841  -119.4696   \n",
       "2    FL       350       21299325.0     1.64   28.6305   -82.4497   \n",
       "3    OH       290       11689442.0     2.48   40.2862   -82.7937   \n",
       "4    PA       279       12807060.0     2.18   40.8781   -77.7996   \n",
       "\n",
       "   MedianIncome  Unemployment  \n",
       "0  55457.161417           4.0  \n",
       "1  66207.379310           4.3  \n",
       "2  53106.253731           3.9  \n",
       "3  57974.443182           4.4  \n",
       "4  60868.805970           4.8  "
      ]
     },
     "execution_count": 126,
     "metadata": {},
     "output_type": "execute_result"
    }
   ],
   "source": [
    "#merge income and hospital\n",
    "\n",
    "data_complete1 = pd.merge(hospital_state, income_state, how=\"left\", on=[\"State\", \"State\"])\n",
    "data_complete1.head()\n",
    "data_complete1 = pd.merge(data_complete1, unemployment_state, how=\"left\", on=[\"State\", \"State\"])\n",
    "data_complete1.head()"
   ]
  },
  {
   "cell_type": "code",
   "execution_count": 127,
   "metadata": {},
   "outputs": [
    {
     "data": {
      "text/html": [
       "<div>\n",
       "<style scoped>\n",
       "    .dataframe tbody tr th:only-of-type {\n",
       "        vertical-align: middle;\n",
       "    }\n",
       "\n",
       "    .dataframe tbody tr th {\n",
       "        vertical-align: top;\n",
       "    }\n",
       "\n",
       "    .dataframe thead th {\n",
       "        text-align: right;\n",
       "    }\n",
       "</style>\n",
       "<table border=\"1\" class=\"dataframe\">\n",
       "  <thead>\n",
       "    <tr style=\"text-align: right;\">\n",
       "      <th></th>\n",
       "      <th>State</th>\n",
       "      <th>Hospital</th>\n",
       "      <th>POPESTIMATE2018</th>\n",
       "      <th>Density</th>\n",
       "      <th>Latitude</th>\n",
       "      <th>Longitude</th>\n",
       "      <th>MedianIncome</th>\n",
       "      <th>Unemployment</th>\n",
       "      <th>year</th>\n",
       "      <th>state_abbr</th>\n",
       "      <th>motor_vehicle_theft</th>\n",
       "      <th>property_crime</th>\n",
       "      <th>robbery</th>\n",
       "      <th>violent_crime</th>\n",
       "    </tr>\n",
       "  </thead>\n",
       "  <tbody>\n",
       "    <tr>\n",
       "      <th>0</th>\n",
       "      <td>TX</td>\n",
       "      <td>798</td>\n",
       "      <td>28701845.0</td>\n",
       "      <td>2.78</td>\n",
       "      <td>31.4757</td>\n",
       "      <td>-99.3312</td>\n",
       "      <td>55457.161417</td>\n",
       "      <td>4.0</td>\n",
       "      <td>2017.0</td>\n",
       "      <td>TX</td>\n",
       "      <td>68041.0</td>\n",
       "      <td>725328.0</td>\n",
       "      <td>32267.0</td>\n",
       "      <td>124238.0</td>\n",
       "    </tr>\n",
       "    <tr>\n",
       "      <th>1</th>\n",
       "      <td>CA</td>\n",
       "      <td>569</td>\n",
       "      <td>39557045.0</td>\n",
       "      <td>1.44</td>\n",
       "      <td>37.1841</td>\n",
       "      <td>-119.4696</td>\n",
       "      <td>66207.379310</td>\n",
       "      <td>4.3</td>\n",
       "      <td>2017.0</td>\n",
       "      <td>CA</td>\n",
       "      <td>168391.0</td>\n",
       "      <td>987114.0</td>\n",
       "      <td>56622.0</td>\n",
       "      <td>177627.0</td>\n",
       "    </tr>\n",
       "    <tr>\n",
       "      <th>2</th>\n",
       "      <td>FL</td>\n",
       "      <td>350</td>\n",
       "      <td>21299325.0</td>\n",
       "      <td>1.64</td>\n",
       "      <td>28.6305</td>\n",
       "      <td>-82.4497</td>\n",
       "      <td>53106.253731</td>\n",
       "      <td>3.9</td>\n",
       "      <td>2017.0</td>\n",
       "      <td>FL</td>\n",
       "      <td>42914.0</td>\n",
       "      <td>527220.0</td>\n",
       "      <td>18597.0</td>\n",
       "      <td>85625.0</td>\n",
       "    </tr>\n",
       "    <tr>\n",
       "      <th>3</th>\n",
       "      <td>OH</td>\n",
       "      <td>290</td>\n",
       "      <td>11689442.0</td>\n",
       "      <td>2.48</td>\n",
       "      <td>40.2862</td>\n",
       "      <td>-82.7937</td>\n",
       "      <td>57974.443182</td>\n",
       "      <td>4.4</td>\n",
       "      <td>2017.0</td>\n",
       "      <td>OH</td>\n",
       "      <td>20253.0</td>\n",
       "      <td>282034.0</td>\n",
       "      <td>11605.0</td>\n",
       "      <td>34683.0</td>\n",
       "    </tr>\n",
       "    <tr>\n",
       "      <th>4</th>\n",
       "      <td>PA</td>\n",
       "      <td>279</td>\n",
       "      <td>12807060.0</td>\n",
       "      <td>2.18</td>\n",
       "      <td>40.8781</td>\n",
       "      <td>-77.7996</td>\n",
       "      <td>60868.805970</td>\n",
       "      <td>4.8</td>\n",
       "      <td>2017.0</td>\n",
       "      <td>PA</td>\n",
       "      <td>12985.0</td>\n",
       "      <td>211220.0</td>\n",
       "      <td>11793.0</td>\n",
       "      <td>40120.0</td>\n",
       "    </tr>\n",
       "  </tbody>\n",
       "</table>\n",
       "</div>"
      ],
      "text/plain": [
       "  State  Hospital  POPESTIMATE2018  Density  Latitude  Longitude  \\\n",
       "0    TX       798       28701845.0     2.78   31.4757   -99.3312   \n",
       "1    CA       569       39557045.0     1.44   37.1841  -119.4696   \n",
       "2    FL       350       21299325.0     1.64   28.6305   -82.4497   \n",
       "3    OH       290       11689442.0     2.48   40.2862   -82.7937   \n",
       "4    PA       279       12807060.0     2.18   40.8781   -77.7996   \n",
       "\n",
       "   MedianIncome  Unemployment    year state_abbr  motor_vehicle_theft  \\\n",
       "0  55457.161417           4.0  2017.0         TX              68041.0   \n",
       "1  66207.379310           4.3  2017.0         CA             168391.0   \n",
       "2  53106.253731           3.9  2017.0         FL              42914.0   \n",
       "3  57974.443182           4.4  2017.0         OH              20253.0   \n",
       "4  60868.805970           4.8  2017.0         PA              12985.0   \n",
       "\n",
       "   property_crime  robbery  violent_crime  \n",
       "0        725328.0  32267.0       124238.0  \n",
       "1        987114.0  56622.0       177627.0  \n",
       "2        527220.0  18597.0        85625.0  \n",
       "3        282034.0  11605.0        34683.0  \n",
       "4        211220.0  11793.0        40120.0  "
      ]
     },
     "execution_count": 127,
     "metadata": {},
     "output_type": "execute_result"
    }
   ],
   "source": [
    "#merge crime data\n",
    "data_complete2 = pd.merge(data_complete1, crime_state, how=\"left\", left_on=\"State\", right_on=\"state_abbr\")\n",
    "data_complete2.head()"
   ]
  },
  {
   "cell_type": "code",
   "execution_count": 128,
   "metadata": {},
   "outputs": [
    {
     "data": {
      "text/html": [
       "<div>\n",
       "<style scoped>\n",
       "    .dataframe tbody tr th:only-of-type {\n",
       "        vertical-align: middle;\n",
       "    }\n",
       "\n",
       "    .dataframe tbody tr th {\n",
       "        vertical-align: top;\n",
       "    }\n",
       "\n",
       "    .dataframe thead th {\n",
       "        text-align: right;\n",
       "    }\n",
       "</style>\n",
       "<table border=\"1\" class=\"dataframe\">\n",
       "  <thead>\n",
       "    <tr style=\"text-align: right;\">\n",
       "      <th></th>\n",
       "      <th>State</th>\n",
       "      <th>Hospital</th>\n",
       "      <th>POPESTIMATE2018</th>\n",
       "      <th>Density</th>\n",
       "      <th>Latitude</th>\n",
       "      <th>Longitude</th>\n",
       "      <th>MedianIncome</th>\n",
       "      <th>Unemployment</th>\n",
       "      <th>year</th>\n",
       "      <th>state_abbr</th>\n",
       "      <th>motor_vehicle_theft</th>\n",
       "      <th>property_crime</th>\n",
       "      <th>robbery</th>\n",
       "      <th>violent_crime</th>\n",
       "      <th>Income%</th>\n",
       "      <th>motor_vehicle_theft%</th>\n",
       "      <th>property_crime%</th>\n",
       "      <th>robbery%</th>\n",
       "      <th>violent_crime%</th>\n",
       "      <th>total_crime%</th>\n",
       "    </tr>\n",
       "  </thead>\n",
       "  <tbody>\n",
       "    <tr>\n",
       "      <th>0</th>\n",
       "      <td>TX</td>\n",
       "      <td>798</td>\n",
       "      <td>28701845.0</td>\n",
       "      <td>2.78</td>\n",
       "      <td>31.4757</td>\n",
       "      <td>-99.3312</td>\n",
       "      <td>55457.161417</td>\n",
       "      <td>4.0</td>\n",
       "      <td>2017.0</td>\n",
       "      <td>TX</td>\n",
       "      <td>68041.0</td>\n",
       "      <td>725328.0</td>\n",
       "      <td>32267.0</td>\n",
       "      <td>124238.0</td>\n",
       "      <td>193.218106</td>\n",
       "      <td>237.061415</td>\n",
       "      <td>2527.112804</td>\n",
       "      <td>112.421344</td>\n",
       "      <td>432.857191</td>\n",
       "      <td>2959.969995</td>\n",
       "    </tr>\n",
       "    <tr>\n",
       "      <th>1</th>\n",
       "      <td>CA</td>\n",
       "      <td>569</td>\n",
       "      <td>39557045.0</td>\n",
       "      <td>1.44</td>\n",
       "      <td>37.1841</td>\n",
       "      <td>-119.4696</td>\n",
       "      <td>66207.379310</td>\n",
       "      <td>4.3</td>\n",
       "      <td>2017.0</td>\n",
       "      <td>CA</td>\n",
       "      <td>168391.0</td>\n",
       "      <td>987114.0</td>\n",
       "      <td>56622.0</td>\n",
       "      <td>177627.0</td>\n",
       "      <td>167.371904</td>\n",
       "      <td>425.691555</td>\n",
       "      <td>2495.418958</td>\n",
       "      <td>143.140116</td>\n",
       "      <td>449.040114</td>\n",
       "      <td>2944.459072</td>\n",
       "    </tr>\n",
       "    <tr>\n",
       "      <th>2</th>\n",
       "      <td>FL</td>\n",
       "      <td>350</td>\n",
       "      <td>21299325.0</td>\n",
       "      <td>1.64</td>\n",
       "      <td>28.6305</td>\n",
       "      <td>-82.4497</td>\n",
       "      <td>53106.253731</td>\n",
       "      <td>3.9</td>\n",
       "      <td>2017.0</td>\n",
       "      <td>FL</td>\n",
       "      <td>42914.0</td>\n",
       "      <td>527220.0</td>\n",
       "      <td>18597.0</td>\n",
       "      <td>85625.0</td>\n",
       "      <td>249.333036</td>\n",
       "      <td>201.480563</td>\n",
       "      <td>2475.289710</td>\n",
       "      <td>87.312626</td>\n",
       "      <td>402.008045</td>\n",
       "      <td>2877.297755</td>\n",
       "    </tr>\n",
       "    <tr>\n",
       "      <th>3</th>\n",
       "      <td>OH</td>\n",
       "      <td>290</td>\n",
       "      <td>11689442.0</td>\n",
       "      <td>2.48</td>\n",
       "      <td>40.2862</td>\n",
       "      <td>-82.7937</td>\n",
       "      <td>57974.443182</td>\n",
       "      <td>4.4</td>\n",
       "      <td>2017.0</td>\n",
       "      <td>OH</td>\n",
       "      <td>20253.0</td>\n",
       "      <td>282034.0</td>\n",
       "      <td>11605.0</td>\n",
       "      <td>34683.0</td>\n",
       "      <td>495.955608</td>\n",
       "      <td>173.258912</td>\n",
       "      <td>2412.724234</td>\n",
       "      <td>99.277622</td>\n",
       "      <td>296.703641</td>\n",
       "      <td>2709.427875</td>\n",
       "    </tr>\n",
       "    <tr>\n",
       "      <th>4</th>\n",
       "      <td>PA</td>\n",
       "      <td>279</td>\n",
       "      <td>12807060.0</td>\n",
       "      <td>2.18</td>\n",
       "      <td>40.8781</td>\n",
       "      <td>-77.7996</td>\n",
       "      <td>60868.805970</td>\n",
       "      <td>4.8</td>\n",
       "      <td>2017.0</td>\n",
       "      <td>PA</td>\n",
       "      <td>12985.0</td>\n",
       "      <td>211220.0</td>\n",
       "      <td>11793.0</td>\n",
       "      <td>40120.0</td>\n",
       "      <td>475.275403</td>\n",
       "      <td>101.389390</td>\n",
       "      <td>1649.246587</td>\n",
       "      <td>92.082024</td>\n",
       "      <td>313.264715</td>\n",
       "      <td>1962.511302</td>\n",
       "    </tr>\n",
       "  </tbody>\n",
       "</table>\n",
       "</div>"
      ],
      "text/plain": [
       "  State  Hospital  POPESTIMATE2018  Density  Latitude  Longitude  \\\n",
       "0    TX       798       28701845.0     2.78   31.4757   -99.3312   \n",
       "1    CA       569       39557045.0     1.44   37.1841  -119.4696   \n",
       "2    FL       350       21299325.0     1.64   28.6305   -82.4497   \n",
       "3    OH       290       11689442.0     2.48   40.2862   -82.7937   \n",
       "4    PA       279       12807060.0     2.18   40.8781   -77.7996   \n",
       "\n",
       "   MedianIncome  Unemployment    year state_abbr  motor_vehicle_theft  \\\n",
       "0  55457.161417           4.0  2017.0         TX              68041.0   \n",
       "1  66207.379310           4.3  2017.0         CA             168391.0   \n",
       "2  53106.253731           3.9  2017.0         FL              42914.0   \n",
       "3  57974.443182           4.4  2017.0         OH              20253.0   \n",
       "4  60868.805970           4.8  2017.0         PA              12985.0   \n",
       "\n",
       "   property_crime  robbery  violent_crime     Income%  motor_vehicle_theft%  \\\n",
       "0        725328.0  32267.0       124238.0  193.218106            237.061415   \n",
       "1        987114.0  56622.0       177627.0  167.371904            425.691555   \n",
       "2        527220.0  18597.0        85625.0  249.333036            201.480563   \n",
       "3        282034.0  11605.0        34683.0  495.955608            173.258912   \n",
       "4        211220.0  11793.0        40120.0  475.275403            101.389390   \n",
       "\n",
       "   property_crime%    robbery%  violent_crime%  total_crime%  \n",
       "0      2527.112804  112.421344      432.857191   2959.969995  \n",
       "1      2495.418958  143.140116      449.040114   2944.459072  \n",
       "2      2475.289710   87.312626      402.008045   2877.297755  \n",
       "3      2412.724234   99.277622      296.703641   2709.427875  \n",
       "4      1649.246587   92.082024      313.264715   1962.511302  "
      ]
     },
     "execution_count": 128,
     "metadata": {},
     "output_type": "execute_result"
    }
   ],
   "source": [
    "#calculate rate\n",
    "data_complete2['Income%'] = data_complete2['MedianIncome']/data_complete2['POPESTIMATE2018']*100000\n",
    "data_complete2['motor_vehicle_theft%'] = data_complete2['motor_vehicle_theft']/data_complete2['POPESTIMATE2018']*100000\n",
    "data_complete2['property_crime%'] = data_complete2['property_crime']/data_complete2['POPESTIMATE2018']*100000\n",
    "data_complete2['robbery%'] = data_complete2['robbery']/data_complete2['POPESTIMATE2018']*100000\n",
    "data_complete2['violent_crime%'] = data_complete2['violent_crime']/data_complete2['POPESTIMATE2018']*100000\n",
    "data_complete2['total_crime%'] = (data_complete2['property_crime'] + data_complete2['violent_crime'])/data_complete2['POPESTIMATE2018']*100000\n",
    "\n",
    "data_complete2.head()"
   ]
  },
  {
   "cell_type": "code",
   "execution_count": 129,
   "metadata": {},
   "outputs": [
    {
     "data": {
      "text/html": [
       "<div>\n",
       "<style scoped>\n",
       "    .dataframe tbody tr th:only-of-type {\n",
       "        vertical-align: middle;\n",
       "    }\n",
       "\n",
       "    .dataframe tbody tr th {\n",
       "        vertical-align: top;\n",
       "    }\n",
       "\n",
       "    .dataframe thead th {\n",
       "        text-align: right;\n",
       "    }\n",
       "</style>\n",
       "<table border=\"1\" class=\"dataframe\">\n",
       "  <thead>\n",
       "    <tr style=\"text-align: right;\">\n",
       "      <th></th>\n",
       "      <th>State</th>\n",
       "      <th>Latitude</th>\n",
       "      <th>Longitude</th>\n",
       "      <th>Hospital%</th>\n",
       "      <th>Income%</th>\n",
       "      <th>Unemployment%</th>\n",
       "      <th>Motor_vehicle_theft%</th>\n",
       "      <th>property_crime%</th>\n",
       "      <th>robbery%</th>\n",
       "      <th>violent_crime%</th>\n",
       "      <th>TotalCrime%</th>\n",
       "    </tr>\n",
       "  </thead>\n",
       "  <tbody>\n",
       "    <tr>\n",
       "      <th>0</th>\n",
       "      <td>TX</td>\n",
       "      <td>31.4757</td>\n",
       "      <td>-99.3312</td>\n",
       "      <td>2.78</td>\n",
       "      <td>193.218106</td>\n",
       "      <td>4.0</td>\n",
       "      <td>237.061415</td>\n",
       "      <td>2527.112804</td>\n",
       "      <td>112.421344</td>\n",
       "      <td>432.857191</td>\n",
       "      <td>2959.969995</td>\n",
       "    </tr>\n",
       "    <tr>\n",
       "      <th>1</th>\n",
       "      <td>CA</td>\n",
       "      <td>37.1841</td>\n",
       "      <td>-119.4696</td>\n",
       "      <td>1.44</td>\n",
       "      <td>167.371904</td>\n",
       "      <td>4.3</td>\n",
       "      <td>425.691555</td>\n",
       "      <td>2495.418958</td>\n",
       "      <td>143.140116</td>\n",
       "      <td>449.040114</td>\n",
       "      <td>2944.459072</td>\n",
       "    </tr>\n",
       "    <tr>\n",
       "      <th>2</th>\n",
       "      <td>FL</td>\n",
       "      <td>28.6305</td>\n",
       "      <td>-82.4497</td>\n",
       "      <td>1.64</td>\n",
       "      <td>249.333036</td>\n",
       "      <td>3.9</td>\n",
       "      <td>201.480563</td>\n",
       "      <td>2475.289710</td>\n",
       "      <td>87.312626</td>\n",
       "      <td>402.008045</td>\n",
       "      <td>2877.297755</td>\n",
       "    </tr>\n",
       "    <tr>\n",
       "      <th>3</th>\n",
       "      <td>OH</td>\n",
       "      <td>40.2862</td>\n",
       "      <td>-82.7937</td>\n",
       "      <td>2.48</td>\n",
       "      <td>495.955608</td>\n",
       "      <td>4.4</td>\n",
       "      <td>173.258912</td>\n",
       "      <td>2412.724234</td>\n",
       "      <td>99.277622</td>\n",
       "      <td>296.703641</td>\n",
       "      <td>2709.427875</td>\n",
       "    </tr>\n",
       "    <tr>\n",
       "      <th>4</th>\n",
       "      <td>PA</td>\n",
       "      <td>40.8781</td>\n",
       "      <td>-77.7996</td>\n",
       "      <td>2.18</td>\n",
       "      <td>475.275403</td>\n",
       "      <td>4.8</td>\n",
       "      <td>101.389390</td>\n",
       "      <td>1649.246587</td>\n",
       "      <td>92.082024</td>\n",
       "      <td>313.264715</td>\n",
       "      <td>1962.511302</td>\n",
       "    </tr>\n",
       "  </tbody>\n",
       "</table>\n",
       "</div>"
      ],
      "text/plain": [
       "  State  Latitude  Longitude  Hospital%     Income%  Unemployment%  \\\n",
       "0    TX   31.4757   -99.3312       2.78  193.218106            4.0   \n",
       "1    CA   37.1841  -119.4696       1.44  167.371904            4.3   \n",
       "2    FL   28.6305   -82.4497       1.64  249.333036            3.9   \n",
       "3    OH   40.2862   -82.7937       2.48  495.955608            4.4   \n",
       "4    PA   40.8781   -77.7996       2.18  475.275403            4.8   \n",
       "\n",
       "   Motor_vehicle_theft%  property_crime%    robbery%  violent_crime%  \\\n",
       "0            237.061415      2527.112804  112.421344      432.857191   \n",
       "1            425.691555      2495.418958  143.140116      449.040114   \n",
       "2            201.480563      2475.289710   87.312626      402.008045   \n",
       "3            173.258912      2412.724234   99.277622      296.703641   \n",
       "4            101.389390      1649.246587   92.082024      313.264715   \n",
       "\n",
       "   TotalCrime%  \n",
       "0  2959.969995  \n",
       "1  2944.459072  \n",
       "2  2877.297755  \n",
       "3  2709.427875  \n",
       "4  1962.511302  "
      ]
     },
     "execution_count": 129,
     "metadata": {},
     "output_type": "execute_result"
    }
   ],
   "source": [
    "#all data for states data frame\n",
    "data_complete = {}\n",
    "data_complete = pd.DataFrame({\n",
    "    'State':data_complete2['State'],\n",
    "    'Latitude':data_complete2['Latitude'],\n",
    "    'Longitude':data_complete2['Longitude'],\n",
    "    'Hospital%':data_complete2['Density'],\n",
    "    'Income%':data_complete2['Income%'],\n",
    "    'Unemployment%':data_complete2['Unemployment'],\n",
    "    'Motor_vehicle_theft%':data_complete2['motor_vehicle_theft%'],\n",
    "    'property_crime%':data_complete2['property_crime%'],\n",
    "    'robbery%':data_complete2['robbery%'],\n",
    "    'violent_crime%':data_complete2['violent_crime%'],\n",
    "    'TotalCrime%':data_complete2['total_crime%']\n",
    "})\n",
    "\n",
    "data_complete.head()"
   ]
  },
  {
   "cell_type": "code",
   "execution_count": 130,
   "metadata": {},
   "outputs": [
    {
     "data": {
      "text/plain": [
       "list"
      ]
     },
     "execution_count": 130,
     "metadata": {},
     "output_type": "execute_result"
    }
   ],
   "source": [
    "a = len(data_complete)\n",
    "type([data_complete['Income%']])"
   ]
  },
  {
   "cell_type": "code",
   "execution_count": 131,
   "metadata": {},
   "outputs": [
    {
     "data": {
      "text/plain": [
       "52"
      ]
     },
     "execution_count": 131,
     "metadata": {},
     "output_type": "execute_result"
    }
   ],
   "source": [
    "len(data_complete['Income%'])"
   ]
  },
  {
   "cell_type": "code",
   "execution_count": 132,
   "metadata": {},
   "outputs": [
    {
     "data": {
      "text/html": [
       "<div>\n",
       "<style scoped>\n",
       "    .dataframe tbody tr th:only-of-type {\n",
       "        vertical-align: middle;\n",
       "    }\n",
       "\n",
       "    .dataframe tbody tr th {\n",
       "        vertical-align: top;\n",
       "    }\n",
       "\n",
       "    .dataframe thead th {\n",
       "        text-align: right;\n",
       "    }\n",
       "</style>\n",
       "<table border=\"1\" class=\"dataframe\">\n",
       "  <thead>\n",
       "    <tr style=\"text-align: right;\">\n",
       "      <th></th>\n",
       "      <th>State</th>\n",
       "      <th>County</th>\n",
       "      <th>Gym</th>\n",
       "    </tr>\n",
       "  </thead>\n",
       "  <tbody>\n",
       "    <tr>\n",
       "      <th>0</th>\n",
       "      <td>AK</td>\n",
       "      <td>Aleutians West</td>\n",
       "      <td>0.0</td>\n",
       "    </tr>\n",
       "    <tr>\n",
       "      <th>1</th>\n",
       "      <td>AK</td>\n",
       "      <td>Anchorage</td>\n",
       "      <td>98.0</td>\n",
       "    </tr>\n",
       "    <tr>\n",
       "      <th>2</th>\n",
       "      <td>AK</td>\n",
       "      <td>Bethel</td>\n",
       "      <td>0.0</td>\n",
       "    </tr>\n",
       "    <tr>\n",
       "      <th>3</th>\n",
       "      <td>AK</td>\n",
       "      <td>Bristol Bay</td>\n",
       "      <td>0.0</td>\n",
       "    </tr>\n",
       "    <tr>\n",
       "      <th>4</th>\n",
       "      <td>AK</td>\n",
       "      <td>Denali</td>\n",
       "      <td>0.0</td>\n",
       "    </tr>\n",
       "  </tbody>\n",
       "</table>\n",
       "</div>"
      ],
      "text/plain": [
       "  State          County   Gym\n",
       "0    AK  Aleutians West   0.0\n",
       "1    AK       Anchorage  98.0\n",
       "2    AK          Bethel   0.0\n",
       "3    AK     Bristol Bay   0.0\n",
       "4    AK          Denali   0.0"
      ]
     },
     "execution_count": 132,
     "metadata": {},
     "output_type": "execute_result"
    }
   ],
   "source": [
    "# File to Load \n",
    "gym_data_to_load = \"./county gym count.csv\"\n",
    "\n",
    "# Read gym Data File and store into Pandas Data Frames\n",
    "gym_data = pd.read_csv(gym_data_to_load)\n",
    "gym_data.head()\n",
    "list(gym_data)\n",
    "gym_data = gym_data.rename(columns={'AK':'State','Aleutians East':'County','0.0':'Gym'})\n",
    "gym_data.head()"
   ]
  },
  {
   "cell_type": "code",
   "execution_count": 133,
   "metadata": {},
   "outputs": [
    {
     "data": {
      "text/plain": [
       "Index(['AK', 'AR', 'LA', 'MA', 'ME', 'NH', 'NJ', 'NM', 'SC', 'VT'], dtype='object', name='State')"
      ]
     },
     "execution_count": 133,
     "metadata": {},
     "output_type": "execute_result"
    }
   ],
   "source": [
    "gym_state = gym_data.groupby(['State']).sum()['Gym']\n",
    "gym_state.index"
   ]
  },
  {
   "cell_type": "code",
   "execution_count": 134,
   "metadata": {},
   "outputs": [
    {
     "data": {
      "text/html": [
       "<div>\n",
       "<style scoped>\n",
       "    .dataframe tbody tr th:only-of-type {\n",
       "        vertical-align: middle;\n",
       "    }\n",
       "\n",
       "    .dataframe tbody tr th {\n",
       "        vertical-align: top;\n",
       "    }\n",
       "\n",
       "    .dataframe thead th {\n",
       "        text-align: right;\n",
       "    }\n",
       "</style>\n",
       "<table border=\"1\" class=\"dataframe\">\n",
       "  <thead>\n",
       "    <tr style=\"text-align: right;\">\n",
       "      <th></th>\n",
       "      <th>State</th>\n",
       "      <th>Gym</th>\n",
       "    </tr>\n",
       "  </thead>\n",
       "  <tbody>\n",
       "    <tr>\n",
       "      <th>0</th>\n",
       "      <td>AK</td>\n",
       "      <td>108.0</td>\n",
       "    </tr>\n",
       "    <tr>\n",
       "      <th>1</th>\n",
       "      <td>AR</td>\n",
       "      <td>276.0</td>\n",
       "    </tr>\n",
       "    <tr>\n",
       "      <th>2</th>\n",
       "      <td>LA</td>\n",
       "      <td>2392.0</td>\n",
       "    </tr>\n",
       "    <tr>\n",
       "      <th>3</th>\n",
       "      <td>MA</td>\n",
       "      <td>89611.0</td>\n",
       "    </tr>\n",
       "    <tr>\n",
       "      <th>4</th>\n",
       "      <td>ME</td>\n",
       "      <td>17001.0</td>\n",
       "    </tr>\n",
       "    <tr>\n",
       "      <th>5</th>\n",
       "      <td>NH</td>\n",
       "      <td>21937.0</td>\n",
       "    </tr>\n",
       "    <tr>\n",
       "      <th>6</th>\n",
       "      <td>NJ</td>\n",
       "      <td>23694.0</td>\n",
       "    </tr>\n",
       "    <tr>\n",
       "      <th>7</th>\n",
       "      <td>NM</td>\n",
       "      <td>756.0</td>\n",
       "    </tr>\n",
       "    <tr>\n",
       "      <th>8</th>\n",
       "      <td>SC</td>\n",
       "      <td>1297.0</td>\n",
       "    </tr>\n",
       "    <tr>\n",
       "      <th>9</th>\n",
       "      <td>VT</td>\n",
       "      <td>8941.0</td>\n",
       "    </tr>\n",
       "  </tbody>\n",
       "</table>\n",
       "</div>"
      ],
      "text/plain": [
       "  State      Gym\n",
       "0    AK    108.0\n",
       "1    AR    276.0\n",
       "2    LA   2392.0\n",
       "3    MA  89611.0\n",
       "4    ME  17001.0\n",
       "5    NH  21937.0\n",
       "6    NJ  23694.0\n",
       "7    NM    756.0\n",
       "8    SC   1297.0\n",
       "9    VT   8941.0"
      ]
     },
     "execution_count": 134,
     "metadata": {},
     "output_type": "execute_result"
    }
   ],
   "source": [
    "gym_state = gym_state.reset_index()\n",
    "#gym_state = gym_state.drop(['County'], axis=1)\n",
    "gym_state"
   ]
  },
  {
   "cell_type": "code",
   "execution_count": 135,
   "metadata": {},
   "outputs": [
    {
     "data": {
      "text/html": [
       "<div>\n",
       "<style scoped>\n",
       "    .dataframe tbody tr th:only-of-type {\n",
       "        vertical-align: middle;\n",
       "    }\n",
       "\n",
       "    .dataframe tbody tr th {\n",
       "        vertical-align: top;\n",
       "    }\n",
       "\n",
       "    .dataframe thead th {\n",
       "        text-align: right;\n",
       "    }\n",
       "</style>\n",
       "<table border=\"1\" class=\"dataframe\">\n",
       "  <thead>\n",
       "    <tr style=\"text-align: right;\">\n",
       "      <th></th>\n",
       "      <th>State</th>\n",
       "      <th>Gym%</th>\n",
       "    </tr>\n",
       "  </thead>\n",
       "  <tbody>\n",
       "    <tr>\n",
       "      <th>0</th>\n",
       "      <td>LA</td>\n",
       "      <td>51.330714</td>\n",
       "    </tr>\n",
       "    <tr>\n",
       "      <th>1</th>\n",
       "      <td>NJ</td>\n",
       "      <td>265.970105</td>\n",
       "    </tr>\n",
       "    <tr>\n",
       "      <th>2</th>\n",
       "      <td>MA</td>\n",
       "      <td>1298.305789</td>\n",
       "    </tr>\n",
       "    <tr>\n",
       "      <th>3</th>\n",
       "      <td>AR</td>\n",
       "      <td>9.157798</td>\n",
       "    </tr>\n",
       "    <tr>\n",
       "      <th>4</th>\n",
       "      <td>SC</td>\n",
       "      <td>25.510771</td>\n",
       "    </tr>\n",
       "    <tr>\n",
       "      <th>5</th>\n",
       "      <td>NM</td>\n",
       "      <td>36.078548</td>\n",
       "    </tr>\n",
       "    <tr>\n",
       "      <th>6</th>\n",
       "      <td>ME</td>\n",
       "      <td>1270.244261</td>\n",
       "    </tr>\n",
       "    <tr>\n",
       "      <th>7</th>\n",
       "      <td>NH</td>\n",
       "      <td>1617.226630</td>\n",
       "    </tr>\n",
       "    <tr>\n",
       "      <th>8</th>\n",
       "      <td>AK</td>\n",
       "      <td>14.645299</td>\n",
       "    </tr>\n",
       "    <tr>\n",
       "      <th>9</th>\n",
       "      <td>VT</td>\n",
       "      <td>1427.592891</td>\n",
       "    </tr>\n",
       "  </tbody>\n",
       "</table>\n",
       "</div>"
      ],
      "text/plain": [
       "  State         Gym%\n",
       "0    LA    51.330714\n",
       "1    NJ   265.970105\n",
       "2    MA  1298.305789\n",
       "3    AR     9.157798\n",
       "4    SC    25.510771\n",
       "5    NM    36.078548\n",
       "6    ME  1270.244261\n",
       "7    NH  1617.226630\n",
       "8    AK    14.645299\n",
       "9    VT  1427.592891"
      ]
     },
     "execution_count": 135,
     "metadata": {},
     "output_type": "execute_result"
    }
   ],
   "source": [
    "#Too bad I still need to gp back to calculate % of gym\n",
    "data_complete_gym1 = pd.merge(data_complete2, gym_state, how=\"right\", left_on=\"State\", right_on=\"State\")\n",
    "data_complete_gym1['Gym%'] = data_complete_gym1['Gym']/data_complete_gym1['POPESTIMATE2018']*100000\n",
    "gym_state_rate = data_complete_gym1[['State','Gym%']]\n",
    "gym_state_rate"
   ]
  },
  {
   "cell_type": "code",
   "execution_count": 136,
   "metadata": {},
   "outputs": [
    {
     "data": {
      "text/html": [
       "<div>\n",
       "<style scoped>\n",
       "    .dataframe tbody tr th:only-of-type {\n",
       "        vertical-align: middle;\n",
       "    }\n",
       "\n",
       "    .dataframe tbody tr th {\n",
       "        vertical-align: top;\n",
       "    }\n",
       "\n",
       "    .dataframe thead th {\n",
       "        text-align: right;\n",
       "    }\n",
       "</style>\n",
       "<table border=\"1\" class=\"dataframe\">\n",
       "  <thead>\n",
       "    <tr style=\"text-align: right;\">\n",
       "      <th></th>\n",
       "      <th>State</th>\n",
       "      <th>Latitude</th>\n",
       "      <th>Longitude</th>\n",
       "      <th>Hospital%</th>\n",
       "      <th>Income%</th>\n",
       "      <th>Unemployment%</th>\n",
       "      <th>Motor_vehicle_theft%</th>\n",
       "      <th>property_crime%</th>\n",
       "      <th>robbery%</th>\n",
       "      <th>violent_crime%</th>\n",
       "      <th>TotalCrime%</th>\n",
       "      <th>Gym%</th>\n",
       "    </tr>\n",
       "  </thead>\n",
       "  <tbody>\n",
       "    <tr>\n",
       "      <th>0</th>\n",
       "      <td>LA</td>\n",
       "      <td>31.0689</td>\n",
       "      <td>-91.9968</td>\n",
       "      <td>5.60</td>\n",
       "      <td>1115.908568</td>\n",
       "      <td>4.4</td>\n",
       "      <td>235.237162</td>\n",
       "      <td>3384.393660</td>\n",
       "      <td>114.979084</td>\n",
       "      <td>559.916806</td>\n",
       "      <td>3944.310467</td>\n",
       "      <td>51.330714</td>\n",
       "    </tr>\n",
       "    <tr>\n",
       "      <th>1</th>\n",
       "      <td>NJ</td>\n",
       "      <td>40.1907</td>\n",
       "      <td>-74.6728</td>\n",
       "      <td>1.68</td>\n",
       "      <td>981.792069</td>\n",
       "      <td>4.6</td>\n",
       "      <td>136.610795</td>\n",
       "      <td>1572.494646</td>\n",
       "      <td>88.623026</td>\n",
       "      <td>231.284209</td>\n",
       "      <td>1803.778854</td>\n",
       "      <td>265.970105</td>\n",
       "    </tr>\n",
       "    <tr>\n",
       "      <th>2</th>\n",
       "      <td>MA</td>\n",
       "      <td>42.2596</td>\n",
       "      <td>-71.8083</td>\n",
       "      <td>1.97</td>\n",
       "      <td>1169.097583</td>\n",
       "      <td>3.5</td>\n",
       "      <td>109.241339</td>\n",
       "      <td>1428.178383</td>\n",
       "      <td>70.572223</td>\n",
       "      <td>355.831206</td>\n",
       "      <td>1784.009589</td>\n",
       "      <td>1298.305789</td>\n",
       "    </tr>\n",
       "    <tr>\n",
       "      <th>3</th>\n",
       "      <td>AR</td>\n",
       "      <td>34.8938</td>\n",
       "      <td>-92.4426</td>\n",
       "      <td>4.05</td>\n",
       "      <td>1492.343229</td>\n",
       "      <td>3.8</td>\n",
       "      <td>240.657636</td>\n",
       "      <td>3068.824500</td>\n",
       "      <td>64.204126</td>\n",
       "      <td>553.150896</td>\n",
       "      <td>3621.975397</td>\n",
       "      <td>9.157798</td>\n",
       "    </tr>\n",
       "    <tr>\n",
       "      <th>4</th>\n",
       "      <td>SC</td>\n",
       "      <td>33.9169</td>\n",
       "      <td>-80.8964</td>\n",
       "      <td>2.12</td>\n",
       "      <td>958.168433</td>\n",
       "      <td>4.4</td>\n",
       "      <td>280.421791</td>\n",
       "      <td>3158.359341</td>\n",
       "      <td>76.119263</td>\n",
       "      <td>500.223539</td>\n",
       "      <td>3658.582880</td>\n",
       "      <td>25.510771</td>\n",
       "    </tr>\n",
       "    <tr>\n",
       "      <th>5</th>\n",
       "      <td>NM</td>\n",
       "      <td>34.4071</td>\n",
       "      <td>-106.1126</td>\n",
       "      <td>2.96</td>\n",
       "      <td>2378.660647</td>\n",
       "      <td>5.6</td>\n",
       "      <td>561.794536</td>\n",
       "      <td>3927.884900</td>\n",
       "      <td>177.624810</td>\n",
       "      <td>780.699695</td>\n",
       "      <td>4708.584595</td>\n",
       "      <td>36.078548</td>\n",
       "    </tr>\n",
       "    <tr>\n",
       "      <th>6</th>\n",
       "      <td>ME</td>\n",
       "      <td>45.3695</td>\n",
       "      <td>-69.2428</td>\n",
       "      <td>3.89</td>\n",
       "      <td>4267.204633</td>\n",
       "      <td>2.7</td>\n",
       "      <td>59.249673</td>\n",
       "      <td>1504.254321</td>\n",
       "      <td>18.604248</td>\n",
       "      <td>120.815539</td>\n",
       "      <td>1625.069859</td>\n",
       "      <td>1270.244261</td>\n",
       "    </tr>\n",
       "    <tr>\n",
       "      <th>7</th>\n",
       "      <td>NH</td>\n",
       "      <td>43.6805</td>\n",
       "      <td>-71.5811</td>\n",
       "      <td>2.65</td>\n",
       "      <td>5301.808091</td>\n",
       "      <td>2.6</td>\n",
       "      <td>67.455093</td>\n",
       "      <td>1367.900812</td>\n",
       "      <td>30.889272</td>\n",
       "      <td>196.688729</td>\n",
       "      <td>1564.589541</td>\n",
       "      <td>1617.226630</td>\n",
       "    </tr>\n",
       "    <tr>\n",
       "      <th>8</th>\n",
       "      <td>AK</td>\n",
       "      <td>64.0685</td>\n",
       "      <td>-152.2782</td>\n",
       "      <td>4.34</td>\n",
       "      <td>9759.427116</td>\n",
       "      <td>7.3</td>\n",
       "      <td>577.404473</td>\n",
       "      <td>3553.383471</td>\n",
       "      <td>128.959994</td>\n",
       "      <td>831.663136</td>\n",
       "      <td>4385.046607</td>\n",
       "      <td>14.645299</td>\n",
       "    </tr>\n",
       "    <tr>\n",
       "      <th>9</th>\n",
       "      <td>VT</td>\n",
       "      <td>44.0687</td>\n",
       "      <td>-72.6658</td>\n",
       "      <td>2.87</td>\n",
       "      <td>10247.330520</td>\n",
       "      <td>2.8</td>\n",
       "      <td>30.975620</td>\n",
       "      <td>1430.626586</td>\n",
       "      <td>14.689469</td>\n",
       "      <td>165.096863</td>\n",
       "      <td>1595.723448</td>\n",
       "      <td>1427.592891</td>\n",
       "    </tr>\n",
       "  </tbody>\n",
       "</table>\n",
       "</div>"
      ],
      "text/plain": [
       "  State  Latitude  Longitude  Hospital%       Income%  Unemployment%  \\\n",
       "0    LA   31.0689   -91.9968       5.60   1115.908568            4.4   \n",
       "1    NJ   40.1907   -74.6728       1.68    981.792069            4.6   \n",
       "2    MA   42.2596   -71.8083       1.97   1169.097583            3.5   \n",
       "3    AR   34.8938   -92.4426       4.05   1492.343229            3.8   \n",
       "4    SC   33.9169   -80.8964       2.12    958.168433            4.4   \n",
       "5    NM   34.4071  -106.1126       2.96   2378.660647            5.6   \n",
       "6    ME   45.3695   -69.2428       3.89   4267.204633            2.7   \n",
       "7    NH   43.6805   -71.5811       2.65   5301.808091            2.6   \n",
       "8    AK   64.0685  -152.2782       4.34   9759.427116            7.3   \n",
       "9    VT   44.0687   -72.6658       2.87  10247.330520            2.8   \n",
       "\n",
       "   Motor_vehicle_theft%  property_crime%    robbery%  violent_crime%  \\\n",
       "0            235.237162      3384.393660  114.979084      559.916806   \n",
       "1            136.610795      1572.494646   88.623026      231.284209   \n",
       "2            109.241339      1428.178383   70.572223      355.831206   \n",
       "3            240.657636      3068.824500   64.204126      553.150896   \n",
       "4            280.421791      3158.359341   76.119263      500.223539   \n",
       "5            561.794536      3927.884900  177.624810      780.699695   \n",
       "6             59.249673      1504.254321   18.604248      120.815539   \n",
       "7             67.455093      1367.900812   30.889272      196.688729   \n",
       "8            577.404473      3553.383471  128.959994      831.663136   \n",
       "9             30.975620      1430.626586   14.689469      165.096863   \n",
       "\n",
       "   TotalCrime%         Gym%  \n",
       "0  3944.310467    51.330714  \n",
       "1  1803.778854   265.970105  \n",
       "2  1784.009589  1298.305789  \n",
       "3  3621.975397     9.157798  \n",
       "4  3658.582880    25.510771  \n",
       "5  4708.584595    36.078548  \n",
       "6  1625.069859  1270.244261  \n",
       "7  1564.589541  1617.226630  \n",
       "8  4385.046607    14.645299  \n",
       "9  1595.723448  1427.592891  "
      ]
     },
     "execution_count": 136,
     "metadata": {},
     "output_type": "execute_result"
    }
   ],
   "source": [
    "#Merge th gym% with all other datasets \n",
    "data_complete_gym = pd.merge(data_complete, gym_state_rate, how=\"right\", left_on=\"State\", right_on=\"State\")\n",
    "data_complete_gym.to_csv('All_data_10state.csv', index = None, header=True)\n",
    "data_complete_gym"
   ]
  },
  {
   "cell_type": "code",
   "execution_count": 137,
   "metadata": {},
   "outputs": [],
   "source": [
    "# slope,intercept = np.polyfit(list(data_complete['Income%']), list(data_complete['property_crime%']),1)\n",
    "# print(slope)\n",
    "import seaborn as sns\n",
    "import statsmodels.api as sm\n"
   ]
  },
  {
   "cell_type": "code",
   "execution_count": 24,
   "metadata": {},
   "outputs": [
    {
     "name": "stderr",
     "output_type": "stream",
     "text": [
      "C:\\Users\\lianx\\Anaconda3\\lib\\site-packages\\scipy\\stats\\stats.py:1713: FutureWarning: Using a non-tuple sequence for multidimensional indexing is deprecated; use `arr[tuple(seq)]` instead of `arr[seq]`. In the future this will be interpreted as an array index, `arr[np.array(seq)]`, which will result either in an error or a different result.\n",
      "  return np.add.reduce(sorted[indexer] * weights, axis=axis) / sumval\n"
     ]
    },
    {
     "data": {
      "text/plain": [
       "<matplotlib.axes._subplots.AxesSubplot at 0x259964fbe10>"
      ]
     },
     "execution_count": 24,
     "metadata": {},
     "output_type": "execute_result"
    },
    {
     "data": {
      "image/png": "[encoded data removed]",
      "text/plain": [
       "<Figure size 432x288 with 1 Axes>"
      ]
     },
     "metadata": {
      "needs_background": "light"
     },
     "output_type": "display_data"
    }
   ],
   "source": [
    "sns.regplot( x ='Income%', y='property_crime%', data = data_complete )"
   ]
  },
  {
   "cell_type": "code",
   "execution_count": 25,
   "metadata": {},
   "outputs": [
    {
     "data": {
      "text/plain": [
       "<matplotlib.axes._subplots.AxesSubplot at 0x25996889710>"
      ]
     },
     "execution_count": 25,
     "metadata": {},
     "output_type": "execute_result"
    },
    {
     "data": {
      "image/png": "[encoded data removed]",
      "text/plain": [
       "<Figure size 432x288 with 1 Axes>"
      ]
     },
     "metadata": {
      "needs_background": "light"
     },
     "output_type": "display_data"
    }
   ],
   "source": [
    "sns.regplot(x ='Income%', y='violent_crime%', data = data_complete)"
   ]
  },
  {
   "cell_type": "code",
   "execution_count": 26,
   "metadata": {},
   "outputs": [
    {
     "data": {
      "text/plain": [
       "<matplotlib.axes._subplots.AxesSubplot at 0x25996907668>"
      ]
     },
     "execution_count": 26,
     "metadata": {},
     "output_type": "execute_result"
    },
    {
     "data": {
      "image/png": "[encoded data removed]",
      "text/plain": [
       "<Figure size 432x288 with 1 Axes>"
      ]
     },
     "metadata": {
      "needs_background": "light"
     },
     "output_type": "display_data"
    }
   ],
   "source": [
    "sns.regplot(x ='Income%', y ='TotalCrime%', data = data_complete)"
   ]
  },
  {
   "cell_type": "code",
   "execution_count": 27,
   "metadata": {},
   "outputs": [
    {
     "data": {
      "text/plain": [
       "<matplotlib.axes._subplots.AxesSubplot at 0x259969740b8>"
      ]
     },
     "execution_count": 27,
     "metadata": {},
     "output_type": "execute_result"
    },
    {
     "data": {
      "image/png": "[encoded data removed]",
      "text/plain": [
       "<Figure size 432x288 with 1 Axes>"
      ]
     },
     "metadata": {
      "needs_background": "light"
     },
     "output_type": "display_data"
    }
   ],
   "source": [
    "sns.regplot(x='Income%', y='robbery%',data = data_complete)"
   ]
  },
  {
   "cell_type": "code",
   "execution_count": 28,
   "metadata": {},
   "outputs": [
    {
     "data": {
      "text/plain": [
       "<matplotlib.axes._subplots.AxesSubplot at 0x259969d5c18>"
      ]
     },
     "execution_count": 28,
     "metadata": {},
     "output_type": "execute_result"
    },
    {
     "data": {
      "image/png": "[encoded data removed]",
      "text/plain": [
       "<Figure size 432x288 with 1 Axes>"
      ]
     },
     "metadata": {
      "needs_background": "light"
     },
     "output_type": "display_data"
    }
   ],
   "source": [
    "sns.regplot(x='Unemployment%', y ='TotalCrime%' ,data = data_complete)"
   ]
  },
  {
   "cell_type": "code",
   "execution_count": 29,
   "metadata": {},
   "outputs": [
    {
     "data": {
      "text/plain": [
       "<matplotlib.axes._subplots.AxesSubplot at 0x25996a34c88>"
      ]
     },
     "execution_count": 29,
     "metadata": {},
     "output_type": "execute_result"
    },
    {
     "data": {
      "image/png": "[encoded data removed]",
      "text/plain": [
       "<Figure size 432x288 with 1 Axes>"
      ]
     },
     "metadata": {
      "needs_background": "light"
     },
     "output_type": "display_data"
    }
   ],
   "source": [
    "sns.regplot(x='Unemployment%', y ='robbery%' ,data = data_complete)"
   ]
  },
  {
   "cell_type": "code",
   "execution_count": 30,
   "metadata": {},
   "outputs": [
    {
     "data": {
      "text/plain": [
       "<matplotlib.axes._subplots.AxesSubplot at 0x25996a99ac8>"
      ]
     },
     "execution_count": 30,
     "metadata": {},
     "output_type": "execute_result"
    },
    {
     "data": {
      "image/png": "[encoded data removed]",
      "text/plain": [
       "<Figure size 432x288 with 1 Axes>"
      ]
     },
     "metadata": {
      "needs_background": "light"
     },
     "output_type": "display_data"
    }
   ],
   "source": [
    "sns.regplot(x='Unemployment%', y ='Motor_vehicle_theft%' ,data = data_complete)"
   ]
  },
  {
   "cell_type": "code",
   "execution_count": 31,
   "metadata": {},
   "outputs": [
    {
     "data": {
      "text/plain": [
       "<matplotlib.axes._subplots.AxesSubplot at 0x25996af96d8>"
      ]
     },
     "execution_count": 31,
     "metadata": {},
     "output_type": "execute_result"
    },
    {
     "data": {
      "image/png": "[encoded data removed]",
      "text/plain": [
       "<Figure size 432x288 with 1 Axes>"
      ]
     },
     "metadata": {
      "needs_background": "light"
     },
     "output_type": "display_data"
    }
   ],
   "source": [
    "sns.regplot(x='Income%', y ='Motor_vehicle_theft%' ,data = data_complete)"
   ]
  },
  {
   "cell_type": "code",
   "execution_count": 32,
   "metadata": {},
   "outputs": [
    {
     "data": {
      "text/plain": [
       "<matplotlib.axes._subplots.AxesSubplot at 0x25996b4e588>"
      ]
     },
     "execution_count": 32,
     "metadata": {},
     "output_type": "execute_result"
    },
    {
     "data": {
      "image/png": "[encoded data removed]",
      "text/plain": [
       "<Figure size 432x288 with 1 Axes>"
      ]
     },
     "metadata": {
      "needs_background": "light"
     },
     "output_type": "display_data"
    }
   ],
   "source": [
    "sns.regplot(x='TotalCrime%', y ='Hospital%' ,data = data_complete)"
   ]
  },
  {
   "cell_type": "code",
   "execution_count": 33,
   "metadata": {},
   "outputs": [
    {
     "data": {
      "text/plain": [
       "<matplotlib.axes._subplots.AxesSubplot at 0x25996bb8358>"
      ]
     },
     "execution_count": 33,
     "metadata": {},
     "output_type": "execute_result"
    },
    {
     "data": {
      "image/png": "[encoded data removed]",
      "text/plain": [
       "<Figure size 432x288 with 1 Axes>"
      ]
     },
     "metadata": {
      "needs_background": "light"
     },
     "output_type": "display_data"
    }
   ],
   "source": [
    "sns.regplot(x='Unemployment%', y ='Hospital%' ,data = data_complete)"
   ]
  },
  {
   "cell_type": "code",
   "execution_count": 34,
   "metadata": {},
   "outputs": [
    {
     "data": {
      "text/plain": [
       "<matplotlib.axes._subplots.AxesSubplot at 0x25996c27550>"
      ]
     },
     "execution_count": 34,
     "metadata": {},
     "output_type": "execute_result"
    },
    {
     "data": {
      "image/png": "[encoded data removed]",
      "text/plain": [
       "<Figure size 432x288 with 1 Axes>"
      ]
     },
     "metadata": {
      "needs_background": "light"
     },
     "output_type": "display_data"
    }
   ],
   "source": [
    "sns.regplot(x='Income%', y ='Hospital%' ,data = data_complete)"
   ]
  },
  {
   "cell_type": "code",
   "execution_count": 35,
   "metadata": {},
   "outputs": [
    {
     "data": {
      "text/plain": [
       "<matplotlib.axes._subplots.AxesSubplot at 0x25996c7e208>"
      ]
     },
     "execution_count": 35,
     "metadata": {},
     "output_type": "execute_result"
    },
    {
     "data": {
      "image/png": "[encoded data removed]",
      "text/plain": [
       "<Figure size 432x288 with 1 Axes>"
      ]
     },
     "metadata": {
      "needs_background": "light"
     },
     "output_type": "display_data"
    }
   ],
   "source": [
    "sns.regplot(x='Income%', y ='Gym%' ,data = data_complete_gym)"
   ]
  },
  {
   "cell_type": "code",
   "execution_count": 36,
   "metadata": {},
   "outputs": [
    {
     "data": {
      "text/plain": [
       "<matplotlib.axes._subplots.AxesSubplot at 0x25996c71b00>"
      ]
     },
     "execution_count": 36,
     "metadata": {},
     "output_type": "execute_result"
    },
    {
     "data": {
      "image/png": "[encoded data removed]",
      "text/plain": [
       "<Figure size 432x288 with 1 Axes>"
      ]
     },
     "metadata": {
      "needs_background": "light"
     },
     "output_type": "display_data"
    }
   ],
   "source": [
    "sns.regplot(x='Gym%', y ='Hospital%' ,data = data_complete_gym)"
   ]
  },
  {
   "cell_type": "code",
   "execution_count": 37,
   "metadata": {},
   "outputs": [
    {
     "data": {
      "text/plain": [
       "<matplotlib.axes._subplots.AxesSubplot at 0x25997d31748>"
      ]
     },
     "execution_count": 37,
     "metadata": {},
     "output_type": "execute_result"
    },
    {
     "data": {
      "image/png": "[encoded data removed]",
      "text/plain": [
       "<Figure size 432x288 with 1 Axes>"
      ]
     },
     "metadata": {
      "needs_background": "light"
     },
     "output_type": "display_data"
    }
   ],
   "source": [
    "sns.regplot(x='Gym%', y ='TotalCrime%' ,data = data_complete_gym)"
   ]
  },
  {
   "cell_type": "code",
   "execution_count": 38,
   "metadata": {},
   "outputs": [
    {
     "data": {
      "text/plain": [
       "<matplotlib.axes._subplots.AxesSubplot at 0x25997d9eba8>"
      ]
     },
     "execution_count": 38,
     "metadata": {},
     "output_type": "execute_result"
    },
    {
     "data": {
      "image/png": "[encoded data removed]",
      "text/plain": [
       "<Figure size 432x288 with 1 Axes>"
      ]
     },
     "metadata": {
      "needs_background": "light"
     },
     "output_type": "display_data"
    }
   ],
   "source": [
    "sns.regplot(x='Gym%', y ='violent_crime%',data = data_complete_gym)"
   ]
  },
  {
   "cell_type": "code",
   "execution_count": 39,
   "metadata": {},
   "outputs": [
    {
     "data": {
      "text/plain": [
       "<matplotlib.axes._subplots.AxesSubplot at 0x25997dfdd30>"
      ]
     },
     "execution_count": 39,
     "metadata": {},
     "output_type": "execute_result"
    },
    {
     "data": {
      "image/png": "[encoded data removed]",
      "text/plain": [
       "<Figure size 432x288 with 1 Axes>"
      ]
     },
     "metadata": {
      "needs_background": "light"
     },
     "output_type": "display_data"
    }
   ],
   "source": [
    "sns.regplot(x='Gym%', y ='robbery%',data = data_complete_gym)"
   ]
  },
  {
   "cell_type": "code",
   "execution_count": 40,
   "metadata": {},
   "outputs": [
    {
     "data": {
      "text/plain": [
       "<matplotlib.axes._subplots.AxesSubplot at 0x25997ce7ba8>"
      ]
     },
     "execution_count": 40,
     "metadata": {},
     "output_type": "execute_result"
    },
    {
     "data": {
      "image/png": "[encoded data removed]",
      "text/plain": [
       "<Figure size 432x288 with 1 Axes>"
      ]
     },
     "metadata": {
      "needs_background": "light"
     },
     "output_type": "display_data"
    }
   ],
   "source": [
    "sns.regplot(x='Gym%', y ='Motor_vehicle_theft%',data = data_complete_gym)"
   ]
  },
  {
   "cell_type": "code",
   "execution_count": 111,
   "metadata": {},
   "outputs": [
    {
     "name": "stderr",
     "output_type": "stream",
     "text": [
      "C:\\Users\\lianx\\Anaconda3\\lib\\site-packages\\scipy\\stats\\stats.py:1713: FutureWarning: Using a non-tuple sequence for multidimensional indexing is deprecated; use `arr[tuple(seq)]` instead of `arr[seq]`. In the future this will be interpreted as an array index, `arr[np.array(seq)]`, which will result either in an error or a different result.\n",
      "  return np.add.reduce(sorted[indexer] * weights, axis=axis) / sumval\n"
     ]
    },
    {
     "data": {
      "text/plain": [
       "<matplotlib.axes._subplots.AxesSubplot at 0x2599b0fc0f0>"
      ]
     },
     "execution_count": 111,
     "metadata": {},
     "output_type": "execute_result"
    },
    {
     "data": {
      "image/png": "[encoded data removed]",
      "text/plain": [
       "<Figure size 432x288 with 1 Axes>"
      ]
     },
     "metadata": {
      "needs_background": "light"
     },
     "output_type": "display_data"
    }
   ],
   "source": [
    "sns.regplot(x='Gym%', y ='Unemployment%',data = data_complete_gym)"
   ]
  },
  {
   "cell_type": "code",
   "execution_count": null,
   "metadata": {},
   "outputs": [],
   "source": [
    "sns.regplot(x='Gym%', y ='property_crime%',data = data_complete_gym)"
   ]
  },
  {
   "cell_type": "code",
   "execution_count": 67,
   "metadata": {},
   "outputs": [],
   "source": [
    "#model.sm.OLS(df['prop'])\n",
    "# x = np.array([0,a])\n",
    "# y = slope*x + intercept\n",
    "# _ = plt.plot(list(data_complete['Income%']), list(data_complete['property_crime%']), marker='o',linestyle ='none')\n",
    "# _ = plt.plot(x,y)"
   ]
  },
  {
   "cell_type": "code",
   "execution_count": null,
   "metadata": {},
   "outputs": [],
   "source": [
    "#hospital_state_series = hospital_state.set_index('index')\n",
    "#hospital_state_series.head()"
   ]
  },
  {
   "cell_type": "code",
   "execution_count": null,
   "metadata": {},
   "outputs": [],
   "source": [
    "#hospital_state_series.index = hospital_state_series.index.map(states_dict)\n",
    "#hospital_state_series.head()"
   ]
  },
  {
   "cell_type": "markdown",
   "metadata": {},
   "source": [
    "### Plot the result data_complete_gym"
   ]
  },
  {
   "cell_type": "code",
   "execution_count": 48,
   "metadata": {},
   "outputs": [
    {
     "data": {
      "text/html": [
       "<div>\n",
       "<style scoped>\n",
       "    .dataframe tbody tr th:only-of-type {\n",
       "        vertical-align: middle;\n",
       "    }\n",
       "\n",
       "    .dataframe tbody tr th {\n",
       "        vertical-align: top;\n",
       "    }\n",
       "\n",
       "    .dataframe thead th {\n",
       "        text-align: right;\n",
       "    }\n",
       "</style>\n",
       "<table border=\"1\" class=\"dataframe\">\n",
       "  <thead>\n",
       "    <tr style=\"text-align: right;\">\n",
       "      <th></th>\n",
       "      <th>State</th>\n",
       "      <th>Latitude</th>\n",
       "      <th>Longitude</th>\n",
       "      <th>Hospital%</th>\n",
       "      <th>Income%</th>\n",
       "      <th>Unemployment%</th>\n",
       "      <th>Motor_vehicle_theft%</th>\n",
       "      <th>property_crime%</th>\n",
       "      <th>robbery%</th>\n",
       "      <th>violent_crime%</th>\n",
       "      <th>TotalCrime%</th>\n",
       "      <th>Gym%</th>\n",
       "    </tr>\n",
       "  </thead>\n",
       "  <tbody>\n",
       "    <tr>\n",
       "      <th>0</th>\n",
       "      <td>LA</td>\n",
       "      <td>31.0689</td>\n",
       "      <td>-91.9968</td>\n",
       "      <td>5.60</td>\n",
       "      <td>1115.908568</td>\n",
       "      <td>4.4</td>\n",
       "      <td>235.237162</td>\n",
       "      <td>3384.393660</td>\n",
       "      <td>114.979084</td>\n",
       "      <td>559.916806</td>\n",
       "      <td>3944.310467</td>\n",
       "      <td>51.330714</td>\n",
       "    </tr>\n",
       "    <tr>\n",
       "      <th>1</th>\n",
       "      <td>NJ</td>\n",
       "      <td>40.1907</td>\n",
       "      <td>-74.6728</td>\n",
       "      <td>1.68</td>\n",
       "      <td>981.792069</td>\n",
       "      <td>4.6</td>\n",
       "      <td>136.610795</td>\n",
       "      <td>1572.494646</td>\n",
       "      <td>88.623026</td>\n",
       "      <td>231.284209</td>\n",
       "      <td>1803.778854</td>\n",
       "      <td>265.970105</td>\n",
       "    </tr>\n",
       "    <tr>\n",
       "      <th>2</th>\n",
       "      <td>MA</td>\n",
       "      <td>42.2596</td>\n",
       "      <td>-71.8083</td>\n",
       "      <td>1.97</td>\n",
       "      <td>1169.097583</td>\n",
       "      <td>3.5</td>\n",
       "      <td>109.241339</td>\n",
       "      <td>1428.178383</td>\n",
       "      <td>70.572223</td>\n",
       "      <td>355.831206</td>\n",
       "      <td>1784.009589</td>\n",
       "      <td>1298.305789</td>\n",
       "    </tr>\n",
       "    <tr>\n",
       "      <th>3</th>\n",
       "      <td>AR</td>\n",
       "      <td>34.8938</td>\n",
       "      <td>-92.4426</td>\n",
       "      <td>4.05</td>\n",
       "      <td>1492.343229</td>\n",
       "      <td>3.8</td>\n",
       "      <td>240.657636</td>\n",
       "      <td>3068.824500</td>\n",
       "      <td>64.204126</td>\n",
       "      <td>553.150896</td>\n",
       "      <td>3621.975397</td>\n",
       "      <td>9.157798</td>\n",
       "    </tr>\n",
       "    <tr>\n",
       "      <th>4</th>\n",
       "      <td>SC</td>\n",
       "      <td>33.9169</td>\n",
       "      <td>-80.8964</td>\n",
       "      <td>2.12</td>\n",
       "      <td>958.168433</td>\n",
       "      <td>4.4</td>\n",
       "      <td>280.421791</td>\n",
       "      <td>3158.359341</td>\n",
       "      <td>76.119263</td>\n",
       "      <td>500.223539</td>\n",
       "      <td>3658.582880</td>\n",
       "      <td>25.510771</td>\n",
       "    </tr>\n",
       "  </tbody>\n",
       "</table>\n",
       "</div>"
      ],
      "text/plain": [
       "  State  Latitude  Longitude  Hospital%      Income%  Unemployment%  \\\n",
       "0    LA   31.0689   -91.9968       5.60  1115.908568            4.4   \n",
       "1    NJ   40.1907   -74.6728       1.68   981.792069            4.6   \n",
       "2    MA   42.2596   -71.8083       1.97  1169.097583            3.5   \n",
       "3    AR   34.8938   -92.4426       4.05  1492.343229            3.8   \n",
       "4    SC   33.9169   -80.8964       2.12   958.168433            4.4   \n",
       "\n",
       "   Motor_vehicle_theft%  property_crime%    robbery%  violent_crime%  \\\n",
       "0            235.237162      3384.393660  114.979084      559.916806   \n",
       "1            136.610795      1572.494646   88.623026      231.284209   \n",
       "2            109.241339      1428.178383   70.572223      355.831206   \n",
       "3            240.657636      3068.824500   64.204126      553.150896   \n",
       "4            280.421791      3158.359341   76.119263      500.223539   \n",
       "\n",
       "   TotalCrime%         Gym%  \n",
       "0  3944.310467    51.330714  \n",
       "1  1803.778854   265.970105  \n",
       "2  1784.009589  1298.305789  \n",
       "3  3621.975397     9.157798  \n",
       "4  3658.582880    25.510771  "
      ]
     },
     "execution_count": 48,
     "metadata": {},
     "output_type": "execute_result"
    }
   ],
   "source": [
    "data_complete_gym.head()"
   ]
  },
  {
   "cell_type": "code",
   "execution_count": 89,
   "metadata": {},
   "outputs": [
    {
     "data": {
      "text/plain": [
       "1.12"
      ]
     },
     "execution_count": 89,
     "metadata": {},
     "output_type": "execute_result"
    }
   ],
   "source": [
    "# Store 'Lat' and 'Lng' into  locations \n",
    "locations = data_complete[[\"Latitude\", \"Longitude\"]].astype(float)\n",
    "# Convert density to float and store\n",
    "hos_density = data_complete['Hospital%'].astype(float)\n",
    "hos_density\n",
    "min(hos_density)"
   ]
  },
  {
   "cell_type": "code",
   "execution_count": 110,
   "metadata": {},
   "outputs": [
    {
     "data": {
      "application/vnd.jupyter.widget-view+json": {
       "model_id": "1bc5526d0e9545fdbc5a7a3573fcc054",
       "version_major": 2,
       "version_minor": 0
      },
      "text/plain": [
       "Figure(layout=FigureLayout(height='420px'))"
      ]
     },
     "metadata": {},
     "output_type": "display_data"
    }
   ],
   "source": [
    "import gmaps\n",
    "#Heatmap of hospital density \n",
    "#Configure gmaps with API key\n",
    "gmaps.configure(api_key=gkey)\n",
    "# Create a  Heatmap layer\n",
    "\n",
    "\n",
    "fig = gmaps.figure()\n",
    "\n",
    "heat_layer = gmaps.heatmap_layer(locations, weights=hos_density, \n",
    "                                 dissipating=False, max_intensity=4,\n",
    "                                 point_radius =2) #, gradient = ['white', 'red']\n",
    "# Adjust heat_layer setting to help with heatmap dissipating on zoom\n",
    "# heat_layer.dissipating = False\n",
    "# heat_layer.max_intensity = 40\n",
    "# heat_layer.point_radius = 4\n",
    "\n",
    "fig.add_layer(heat_layer)\n",
    "\n",
    "fig"
   ]
  },
  {
   "cell_type": "code",
   "execution_count": 93,
   "metadata": {},
   "outputs": [
    {
     "data": {
      "text/plain": [
       "52"
      ]
     },
     "execution_count": 93,
     "metadata": {},
     "output_type": "execute_result"
    }
   ],
   "source": [
    "import matplotlib.cm as cm\n",
    "import matplotlib.colors as colors\n",
    "import gmaps.geojson_geometries\n",
    "\n",
    "norm = colors.Normalize(vmin=min(hos_density), vmax = max(hos_density))\n",
    "\n",
    "m = cm.ScalarMappable(norm = norm, cmap='OrRd')\n",
    "colormap = m.to_rgba(hos_density)\n",
    "clr = [colors.to_hex(c) for c in colormap]\n",
    "\n",
    "colorcoded_states = pd.Series(clr, index = data_complete['State'])\n",
    "colorcoded_states = colorcoded_states.to_frame()\n",
    "\n",
    "states = [\"Alabama\",\"Alaska\",\"Arizona\",\"Arkansas\",\"California\",\"Colorado\",\n",
    "  \"Connecticut\",\"Delaware\",\"District of Columbia\",\"Florida\",\"Georgia\",\"Hawaii\",\"Idaho\",\"Illinois\",\n",
    "  \"Indiana\",\"Iowa\",\"Kansas\",\"Kentucky\",\"Louisiana\",\"Maine\",\"Maryland\",\n",
    "  \"Massachusetts\",\"Michigan\",\"Minnesota\",\"Mississippi\",\"Missouri\",\"Montana\",\n",
    "  \"Nebraska\",\"Nevada\",\"New Hampshire\",\"New Jersey\",\"New Mexico\",\"New York\",\n",
    "  \"North Carolina\",\"North Dakota\",\"Ohio\",\"Oklahoma\",\"Oregon\",\"Pennsylvania\",\"Puerto Rico\",\n",
    "  \"Rhode Island\",\"South Carolina\",\"South Dakota\",\"Tennessee\",\"Texas\",\"Utah\",\n",
    "  \"Vermont\",\"Virginia\",\"Washington\",\"West Virginia\",\"Wisconsin\",\"Wyoming\"]\n",
    "\n",
    "state_abbre = [\"AL\",\"AK\",\"AZ\",\"AR\",\"CA\",\"CO\",\"CT\",\"DE\",\"DC\",\"FL\",\"GA\",\"HI\",\"ID\",\"IL\",\"IN\",\n",
    "              \"IA\",\"KS\",\"KY\",\"LA\",\"ME\",\"MD\",\"MA\",\"MI\",\"MN\",\"MS\",\"MO\",\"MT\",\"NE\",\"NV\",\n",
    "              \"NH\",\"NJ\",\"NM\",\"NY\",\"NC\",\"ND\",\"OH\",\"OK\",\"OR\",\"PA\",\"PR\",\"RI\",\"SC\",\"SD\",\"TN\",\n",
    "              \"TX\",\"UT\",\"VT\",\"VA\",\"WA\",\"WV\",\"WI\",\"WY\"]\n",
    "\n",
    "state_dict = dict(zip(state_abbre, states))\n",
    "\n",
    "state_names = pd.Series(states, index = state_abbre)\n",
    "state_names = state_names.to_frame()\n",
    "state_names.head()\n",
    "len(states)"
   ]
  },
  {
   "cell_type": "code",
   "execution_count": 113,
   "metadata": {},
   "outputs": [],
   "source": [
    "state_color = colorcoded_states.merge(state_names, right_index = True, left_index = True)\n",
    "state_color = state_color.rename(index=str, columns={\"0_x\": \"color\", \"0_y\": \"state\"})\n",
    "states_geo = gmaps.geojson_geometries.load_geometry('us-states')\n",
    "\n",
    "# get list of states as they are ordered in gmaps\n",
    "st = [i['properties']['NAME'] for i in states_geo['features']]\n",
    "len(st)\n",
    "# find territories, missing in the original dataframe and present in the 'us-states' geojson file\n",
    "missing = [s for s in st if s not in states]\n",
    "\n",
    "len(missing)\n",
    "# Add the territories to the frame and color them white\n",
    "if len(missing) > 0:\n",
    "    missing_df = pd.DataFrame([['#ffffff', missing[0]], ['#ffffff', missing[1]]], columns=list(state_color), index = ['DC', 'PR'])\n",
    "    state_color = state_color.append(missing_df)"
   ]
  },
  {
   "cell_type": "code",
   "execution_count": 112,
   "metadata": {},
   "outputs": [
    {
     "data": {
      "application/vnd.jupyter.widget-view+json": {
       "model_id": "5d335f3142cc4a2a947182e1b693a000",
       "version_major": 2,
       "version_minor": 0
      },
      "text/plain": [
       "Figure(layout=FigureLayout(height='420px'))"
      ]
     },
     "metadata": {},
     "output_type": "display_data"
    }
   ],
   "source": [
    "state_order = pd.DataFrame(pd.Series(st), columns = ['state'])\n",
    "state_order\n",
    "# Create a layer for color coded states\n",
    "gmaps.configure(api_key = gkey)\n",
    "fig = gmaps.figure()\n",
    "states_layer = gmaps.geojson_layer(states_geo, fill_color = list(df['color']))\n",
    "fig.add_layer(states_layer)\n",
    "fig"
   ]
  },
  {
   "cell_type": "code",
   "execution_count": 105,
   "metadata": {},
   "outputs": [
    {
     "data": {
      "text/html": [
       "<div>\n",
       "<style scoped>\n",
       "    .dataframe tbody tr th:only-of-type {\n",
       "        vertical-align: middle;\n",
       "    }\n",
       "\n",
       "    .dataframe tbody tr th {\n",
       "        vertical-align: top;\n",
       "    }\n",
       "\n",
       "    .dataframe thead th {\n",
       "        text-align: right;\n",
       "    }\n",
       "</style>\n",
       "<table border=\"1\" class=\"dataframe\">\n",
       "  <thead>\n",
       "    <tr style=\"text-align: right;\">\n",
       "      <th></th>\n",
       "      <th>state</th>\n",
       "      <th>color</th>\n",
       "    </tr>\n",
       "  </thead>\n",
       "  <tbody>\n",
       "    <tr>\n",
       "      <th>0</th>\n",
       "      <td>Arizona</td>\n",
       "      <td>#feeacc</td>\n",
       "    </tr>\n",
       "    <tr>\n",
       "      <th>1</th>\n",
       "      <td>Arkansas</td>\n",
       "      <td>#fdb881</td>\n",
       "    </tr>\n",
       "    <tr>\n",
       "      <th>2</th>\n",
       "      <td>California</td>\n",
       "      <td>#fff2e1</td>\n",
       "    </tr>\n",
       "    <tr>\n",
       "      <th>3</th>\n",
       "      <td>Colorado</td>\n",
       "      <td>#fee8c8</td>\n",
       "    </tr>\n",
       "    <tr>\n",
       "      <th>4</th>\n",
       "      <td>Connecticut</td>\n",
       "      <td>#fff7ec</td>\n",
       "    </tr>\n",
       "    <tr>\n",
       "      <th>5</th>\n",
       "      <td>District of Columbia</td>\n",
       "      <td>#fee7c5</td>\n",
       "    </tr>\n",
       "    <tr>\n",
       "      <th>6</th>\n",
       "      <td>Georgia</td>\n",
       "      <td>#fee6c4</td>\n",
       "    </tr>\n",
       "    <tr>\n",
       "      <th>7</th>\n",
       "      <td>Hawaii</td>\n",
       "      <td>#fee9ca</td>\n",
       "    </tr>\n",
       "    <tr>\n",
       "      <th>8</th>\n",
       "      <td>Illinois</td>\n",
       "      <td>#feedd4</td>\n",
       "    </tr>\n",
       "    <tr>\n",
       "      <th>9</th>\n",
       "      <td>Indiana</td>\n",
       "      <td>#fdd8a7</td>\n",
       "    </tr>\n",
       "    <tr>\n",
       "      <th>10</th>\n",
       "      <td>Louisiana</td>\n",
       "      <td>#f3714d</td>\n",
       "    </tr>\n",
       "    <tr>\n",
       "      <th>11</th>\n",
       "      <td>Minnesota</td>\n",
       "      <td>#fddeb3</td>\n",
       "    </tr>\n",
       "    <tr>\n",
       "      <th>12</th>\n",
       "      <td>Mississippi</td>\n",
       "      <td>#fdab75</td>\n",
       "    </tr>\n",
       "    <tr>\n",
       "      <th>13</th>\n",
       "      <td>Montana</td>\n",
       "      <td>#df432d</td>\n",
       "    </tr>\n",
       "    <tr>\n",
       "      <th>14</th>\n",
       "      <td>New Mexico</td>\n",
       "      <td>#fdd6a2</td>\n",
       "    </tr>\n",
       "    <tr>\n",
       "      <th>15</th>\n",
       "      <td>North Dakota</td>\n",
       "      <td>#bd0e09</td>\n",
       "    </tr>\n",
       "    <tr>\n",
       "      <th>16</th>\n",
       "      <td>Oklahoma</td>\n",
       "      <td>#fdb27b</td>\n",
       "    </tr>\n",
       "    <tr>\n",
       "      <th>17</th>\n",
       "      <td>Pennsylvania</td>\n",
       "      <td>#fee6c4</td>\n",
       "    </tr>\n",
       "    <tr>\n",
       "      <th>18</th>\n",
       "      <td>Tennessee</td>\n",
       "      <td>#fdddb1</td>\n",
       "    </tr>\n",
       "    <tr>\n",
       "      <th>19</th>\n",
       "      <td>Virginia</td>\n",
       "      <td>#feefd8</td>\n",
       "    </tr>\n",
       "    <tr>\n",
       "      <th>20</th>\n",
       "      <td>Puerto Rico</td>\n",
       "      <td>#fee2bc</td>\n",
       "    </tr>\n",
       "    <tr>\n",
       "      <th>21</th>\n",
       "      <td>Delaware</td>\n",
       "      <td>#fff0dc</td>\n",
       "    </tr>\n",
       "    <tr>\n",
       "      <th>22</th>\n",
       "      <td>West Virginia</td>\n",
       "      <td>#fdbc85</td>\n",
       "    </tr>\n",
       "    <tr>\n",
       "      <th>23</th>\n",
       "      <td>Wisconsin</td>\n",
       "      <td>#fdd6a3</td>\n",
       "    </tr>\n",
       "    <tr>\n",
       "      <th>24</th>\n",
       "      <td>Wyoming</td>\n",
       "      <td>#e24831</td>\n",
       "    </tr>\n",
       "    <tr>\n",
       "      <th>25</th>\n",
       "      <td>Alabama</td>\n",
       "      <td>#fddbac</td>\n",
       "    </tr>\n",
       "    <tr>\n",
       "      <th>26</th>\n",
       "      <td>Alaska</td>\n",
       "      <td>#fda973</td>\n",
       "    </tr>\n",
       "    <tr>\n",
       "      <th>27</th>\n",
       "      <td>Florida</td>\n",
       "      <td>#feefd9</td>\n",
       "    </tr>\n",
       "    <tr>\n",
       "      <th>28</th>\n",
       "      <td>Idaho</td>\n",
       "      <td>#fdd19b</td>\n",
       "    </tr>\n",
       "    <tr>\n",
       "      <th>29</th>\n",
       "      <td>Kansas</td>\n",
       "      <td>#f06849</td>\n",
       "    </tr>\n",
       "    <tr>\n",
       "      <th>30</th>\n",
       "      <td>Maryland</td>\n",
       "      <td>#fff7eb</td>\n",
       "    </tr>\n",
       "    <tr>\n",
       "      <th>31</th>\n",
       "      <td>New Jersey</td>\n",
       "      <td>#feefd8</td>\n",
       "    </tr>\n",
       "    <tr>\n",
       "      <th>32</th>\n",
       "      <td>North Carolina</td>\n",
       "      <td>#fff1dd</td>\n",
       "    </tr>\n",
       "    <tr>\n",
       "      <th>33</th>\n",
       "      <td>South Carolina</td>\n",
       "      <td>#fee7c7</td>\n",
       "    </tr>\n",
       "    <tr>\n",
       "      <th>34</th>\n",
       "      <td>Washington</td>\n",
       "      <td>#feedd4</td>\n",
       "    </tr>\n",
       "    <tr>\n",
       "      <th>35</th>\n",
       "      <td>Vermont</td>\n",
       "      <td>#fdd8a6</td>\n",
       "    </tr>\n",
       "    <tr>\n",
       "      <th>36</th>\n",
       "      <td>Utah</td>\n",
       "      <td>#fee7c5</td>\n",
       "    </tr>\n",
       "    <tr>\n",
       "      <th>37</th>\n",
       "      <td>Iowa</td>\n",
       "      <td>#fc9e69</td>\n",
       "    </tr>\n",
       "    <tr>\n",
       "      <th>38</th>\n",
       "      <td>Kentucky</td>\n",
       "      <td>#fdd8a6</td>\n",
       "    </tr>\n",
       "    <tr>\n",
       "      <th>39</th>\n",
       "      <td>Maine</td>\n",
       "      <td>#fdbd86</td>\n",
       "    </tr>\n",
       "    <tr>\n",
       "      <th>40</th>\n",
       "      <td>Massachusetts</td>\n",
       "      <td>#feeacc</td>\n",
       "    </tr>\n",
       "    <tr>\n",
       "      <th>41</th>\n",
       "      <td>Michigan</td>\n",
       "      <td>#feecd1</td>\n",
       "    </tr>\n",
       "    <tr>\n",
       "      <th>42</th>\n",
       "      <td>Missouri</td>\n",
       "      <td>#fdd6a2</td>\n",
       "    </tr>\n",
       "    <tr>\n",
       "      <th>43</th>\n",
       "      <td>Nebraska</td>\n",
       "      <td>#f16a4a</td>\n",
       "    </tr>\n",
       "    <tr>\n",
       "      <th>44</th>\n",
       "      <td>Nevada</td>\n",
       "      <td>#fedfb5</td>\n",
       "    </tr>\n",
       "    <tr>\n",
       "      <th>45</th>\n",
       "      <td>New Hampshire</td>\n",
       "      <td>#fddcaf</td>\n",
       "    </tr>\n",
       "    <tr>\n",
       "      <th>46</th>\n",
       "      <td>New York</td>\n",
       "      <td>#fff3e2</td>\n",
       "    </tr>\n",
       "    <tr>\n",
       "      <th>47</th>\n",
       "      <td>Ohio</td>\n",
       "      <td>#fee0b7</td>\n",
       "    </tr>\n",
       "    <tr>\n",
       "      <th>48</th>\n",
       "      <td>Oregon</td>\n",
       "      <td>#feedd4</td>\n",
       "    </tr>\n",
       "    <tr>\n",
       "      <th>49</th>\n",
       "      <td>Rhode Island</td>\n",
       "      <td>#feebd0</td>\n",
       "    </tr>\n",
       "    <tr>\n",
       "      <th>50</th>\n",
       "      <td>South Dakota</td>\n",
       "      <td>#7f0000</td>\n",
       "    </tr>\n",
       "    <tr>\n",
       "      <th>51</th>\n",
       "      <td>Texas</td>\n",
       "      <td>#fdd9aa</td>\n",
       "    </tr>\n",
       "  </tbody>\n",
       "</table>\n",
       "</div>"
      ],
      "text/plain": [
       "                   state    color\n",
       "0                Arizona  #feeacc\n",
       "1               Arkansas  #fdb881\n",
       "2             California  #fff2e1\n",
       "3               Colorado  #fee8c8\n",
       "4            Connecticut  #fff7ec\n",
       "5   District of Columbia  #fee7c5\n",
       "6                Georgia  #fee6c4\n",
       "7                 Hawaii  #fee9ca\n",
       "8               Illinois  #feedd4\n",
       "9                Indiana  #fdd8a7\n",
       "10             Louisiana  #f3714d\n",
       "11             Minnesota  #fddeb3\n",
       "12           Mississippi  #fdab75\n",
       "13               Montana  #df432d\n",
       "14            New Mexico  #fdd6a2\n",
       "15          North Dakota  #bd0e09\n",
       "16              Oklahoma  #fdb27b\n",
       "17          Pennsylvania  #fee6c4\n",
       "18             Tennessee  #fdddb1\n",
       "19              Virginia  #feefd8\n",
       "20           Puerto Rico  #fee2bc\n",
       "21              Delaware  #fff0dc\n",
       "22         West Virginia  #fdbc85\n",
       "23             Wisconsin  #fdd6a3\n",
       "24               Wyoming  #e24831\n",
       "25               Alabama  #fddbac\n",
       "26                Alaska  #fda973\n",
       "27               Florida  #feefd9\n",
       "28                 Idaho  #fdd19b\n",
       "29                Kansas  #f06849\n",
       "30              Maryland  #fff7eb\n",
       "31            New Jersey  #feefd8\n",
       "32        North Carolina  #fff1dd\n",
       "33        South Carolina  #fee7c7\n",
       "34            Washington  #feedd4\n",
       "35               Vermont  #fdd8a6\n",
       "36                  Utah  #fee7c5\n",
       "37                  Iowa  #fc9e69\n",
       "38              Kentucky  #fdd8a6\n",
       "39                 Maine  #fdbd86\n",
       "40         Massachusetts  #feeacc\n",
       "41              Michigan  #feecd1\n",
       "42              Missouri  #fdd6a2\n",
       "43              Nebraska  #f16a4a\n",
       "44                Nevada  #fedfb5\n",
       "45         New Hampshire  #fddcaf\n",
       "46              New York  #fff3e2\n",
       "47                  Ohio  #fee0b7\n",
       "48                Oregon  #feedd4\n",
       "49          Rhode Island  #feebd0\n",
       "50          South Dakota  #7f0000\n",
       "51                 Texas  #fdd9aa"
      ]
     },
     "execution_count": 105,
     "metadata": {},
     "output_type": "execute_result"
    }
   ],
   "source": [
    "# create a state-color dataframe for geojson layer\n",
    "df = state_order.merge(state_color, on = 'state')\n"
   ]
  },
  {
   "cell_type": "code",
   "execution_count": 106,
   "metadata": {},
   "outputs": [
    {
     "data": {
      "application/vnd.jupyter.widget-view+json": {
       "model_id": "fd87b7e6f622491f964e3984bf21651a",
       "version_major": 2,
       "version_minor": 0
      },
      "text/plain": [
       "Figure(layout=FigureLayout(height='420px'))"
      ]
     },
     "metadata": {},
     "output_type": "display_data"
    }
   ],
   "source": []
  },
  {
   "cell_type": "code",
   "execution_count": null,
   "metadata": {},
   "outputs": [],
   "source": []
  }
 ],
 "metadata": {
  "kernelspec": {
   "display_name": "Python 3",
   "language": "python",
   "name": "python3"
  },
  "language_info": {
   "codemirror_mode": {
    "name": "ipython",
    "version": 3
   },
   "file_extension": ".py",
   "mimetype": "text/x-python",
   "name": "python",
   "nbconvert_exporter": "python",
   "pygments_lexer": "ipython3",
   "version": "3.7.1"
  }
 },
 "nbformat": 4,
 "nbformat_minor": 2
}
