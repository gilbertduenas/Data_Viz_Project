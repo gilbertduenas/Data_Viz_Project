{
 "cells": [
  {
   "cell_type": "code",
   "execution_count": 1,
   "metadata": {},
   "outputs": [
    {
     "data": {
      "text/plain": [
       "<Figure size 3200x2400 with 1 Axes>"
      ]
     },
     "metadata": {},
     "output_type": "display_data"
    }
   ],
   "source": [
    "# imports and froms\n",
    "import matplotlib.pyplot as plt\n",
    "import pandas as pd\n",
    "import wikipedia as wp\n",
    "\n",
    "# enter the h1 element from the article in wp.page(h1)\n",
    "# https://en.wikipedia.org/wiki/List_of_United_States_counties_by_per_capita_income\n",
    "html = wp.page(\"List of United States counties by per capita income\").html().encode(\"UTF-8\")\n",
    "\n",
    "# determine the index of your table\n",
    "df = pd.read_html(html)[1]\n",
    "\n",
    "# removing blank entries\n",
    "df_drop = df.dropna(subset = ['Rank', 'County-equivalent'])\n",
    "\n",
    "# create two dataframes to store state and county, and median income\n",
    "df_trim =[]\n",
    "df_trim = df_drop[['State', 'County-equivalent']]\n",
    "df_trim = df_trim.rename(index=str, columns={'State':'State', 'County-equivalent':'County'})\n",
    "\n",
    "df_trim2 = []\n",
    "df_trim2 = df_drop[['Medianfamilyincome']]\n",
    "df_trim2 = df_trim2.rename(index=str, columns={'Medianfamilyincome':'MedianIncome'})\n",
    "\n",
    "# convert text to numeric\n",
    "df_trim2 = df_trim2[df_trim2.columns[0]].replace('[\\$,]', '', regex=True).astype(float)\n",
    "\n",
    "# combine state, county and median data\n",
    "df_trim['MedianIncome'] = df_trim2\n",
    "\n",
    "# sort by state and save a csv\n",
    "df_sort_state = df_trim.sort_values(['State'])\n",
    "df2 = df_sort_state\n",
    "df2.to_csv('counties_by_per_capita_income_CLEAN.csv',header=1,index=False)\n",
    "\n",
    "# plot the data\n",
    "plt.figure(dpi=500)\n",
    "plt.title('Median Income vs States')\n",
    "plt.xlabel('States')\n",
    "plt.xticks(rotation=90)\n",
    "plt.ylabel('Median Income')\n",
    "plt.grid()\n",
    "plt.scatter(df2['State'], df2['MedianIncome'])\n",
    "plt.show()\n",
    "plt.savefig('median_income_states.png')"
   ]
  },
  {
   "cell_type": "code",
   "execution_count": null,
   "metadata": {},
   "outputs": [],
   "source": []
  }
 ],
 "metadata": {
  "kernelspec": {
   "display_name": "Python 3",
   "language": "python",
   "name": "python3"
  },
  "language_info": {
   "codemirror_mode": {
    "name": "ipython",
    "version": 3
   },
   "file_extension": ".py",
   "mimetype": "text/x-python",
   "name": "python",
   "nbconvert_exporter": "python",
   "pygments_lexer": "ipython3",
   "version": "3.7.1"
  }
 },
 "nbformat": 4,
 "nbformat_minor": 2
}
